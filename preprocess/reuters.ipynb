{
 "cells": [
  {
   "cell_type": "code",
   "execution_count": 1,
   "metadata": {
    "collapsed": false,
    "jupyter": {
     "outputs_hidden": false
    }
   },
   "outputs": [],
   "source": [
    "import pandas as pd\n",
    "import numpy as np\n",
    "from Reuters import *"
   ]
  },
  {
   "cell_type": "code",
   "execution_count": 2,
   "metadata": {
    "collapsed": false,
    "jupyter": {
     "outputs_hidden": false
    }
   },
   "outputs": [
    {
     "name": "stdout",
     "output_type": "stream",
     "text": [
      "-rw-r--r-- 1 eriza eriza 1324350 Dec  4  1996 reuters/reut2-000.sgm\n",
      "-rw-r--r-- 1 eriza eriza 1254440 Dec  4  1996 reuters/reut2-001.sgm\n",
      "-rw-r--r-- 1 eriza eriza 1217495 Dec  4  1996 reuters/reut2-002.sgm\n",
      "-rw-r--r-- 1 eriza eriza 1298721 Dec  4  1996 reuters/reut2-003.sgm\n",
      "-rw-r--r-- 1 eriza eriza 1321623 Dec  4  1996 reuters/reut2-004.sgm\n",
      "-rw-r--r-- 1 eriza eriza 1388644 Dec  4  1996 reuters/reut2-005.sgm\n",
      "-rw-r--r-- 1 eriza eriza 1254765 Dec  4  1996 reuters/reut2-006.sgm\n",
      "-rw-r--r-- 1 eriza eriza 1256772 Dec  4  1996 reuters/reut2-007.sgm\n",
      "-rw-r--r-- 1 eriza eriza 1410117 Dec  4  1996 reuters/reut2-008.sgm\n",
      "-rw-r--r-- 1 eriza eriza 1338903 Dec  4  1996 reuters/reut2-009.sgm\n",
      "-rw-r--r-- 1 eriza eriza 1371071 Dec  4  1996 reuters/reut2-010.sgm\n",
      "-rw-r--r-- 1 eriza eriza 1304117 Dec  4  1996 reuters/reut2-011.sgm\n",
      "-rw-r--r-- 1 eriza eriza 1323584 Dec  4  1996 reuters/reut2-012.sgm\n",
      "-rw-r--r-- 1 eriza eriza 1129687 Dec  4  1996 reuters/reut2-013.sgm\n",
      "-rw-r--r-- 1 eriza eriza 1128671 Dec  4  1996 reuters/reut2-014.sgm\n",
      "-rw-r--r-- 1 eriza eriza 1258665 Dec  4  1996 reuters/reut2-015.sgm\n",
      "-rw-r--r-- 1 eriza eriza 1316417 Dec  4  1996 reuters/reut2-016.sgm\n",
      "-rw-r--r-- 1 eriza eriza 1546911 Dec  4  1996 reuters/reut2-017.sgm\n",
      "-rw-r--r-- 1 eriza eriza 1258819 Dec  4  1996 reuters/reut2-018.sgm\n",
      "-rw-r--r-- 1 eriza eriza 1261780 Dec  4  1996 reuters/reut2-019.sgm\n",
      "-rw-r--r-- 1 eriza eriza 1049566 Dec  4  1996 reuters/reut2-020.sgm\n",
      "-rw-r--r-- 1 eriza eriza  621648 Dec  4  1996 reuters/reut2-021.sgm\n"
     ]
    }
   ],
   "source": [
    "# the downloaded dataset\n",
    "!ls -la reuters/*.sgm"
   ]
  },
  {
   "cell_type": "code",
   "execution_count": 3,
   "metadata": {
    "collapsed": false,
    "jupyter": {
     "outputs_hidden": false
    }
   },
   "outputs": [
    {
     "name": "stdout",
     "output_type": "stream",
     "text": [
      "11367\n"
     ]
    }
   ],
   "source": [
    "!grep \\<TOPICS\\>\\<D\\> reuters/*.sgm | wc -l"
   ]
  },
  {
   "cell_type": "code",
   "execution_count": 4,
   "metadata": {
    "collapsed": false,
    "jupyter": {
     "outputs_hidden": false
    }
   },
   "outputs": [
    {
     "data": {
      "text/html": [
       "<pre>\n",
       "&lt;class 'pandas.core.frame.DataFrame'&gt;\n",
       "Int64Index: 19716 entries, 0 to 19715\n",
       "Data columns (total 2 columns):\n",
       "text    19716  non-null values\n",
       "tags    19716  non-null values\n",
       "dtypes: object(2)\n",
       "</pre>"
      ],
      "text/plain": [
       "<class 'pandas.core.frame.DataFrame'>\n",
       "Int64Index: 19716 entries, 0 to 19715\n",
       "Data columns (total 2 columns):\n",
       "text    19716  non-null values\n",
       "tags    19716  non-null values\n",
       "dtypes: object(2)"
      ]
     },
     "execution_count": 4,
     "metadata": {},
     "output_type": "execute_result"
    }
   ],
   "source": [
    "# read and parse the data\n",
    "# this will download the data if it's not yet available locally\n",
    "data_streamer = ReutersStreamReader('reuters').iterdocs()\n",
    "data = get_minibatch(data_streamer, 50000)\n",
    "data"
   ]
  },
  {
   "cell_type": "code",
   "execution_count": 5,
   "metadata": {
    "collapsed": false,
    "jupyter": {
     "outputs_hidden": false
    }
   },
   "outputs": [
    {
     "data": {
      "text/html": [
       "<div style=\"max-height:1000px;max-width:1500px;overflow:auto;\">\n",
       "<table border=\"1\" class=\"dataframe\">\n",
       "  <thead>\n",
       "    <tr style=\"text-align: right;\">\n",
       "      <th></th>\n",
       "      <th>text</th>\n",
       "      <th>tags</th>\n",
       "    </tr>\n",
       "  </thead>\n",
       "  <tbody>\n",
       "    <tr>\n",
       "      <th>0</th>\n",
       "      <td> SANDOZ PLANS WEEDKILLER JOINT VENTURE IN USSR\\...</td>\n",
       "      <td>   [usa, ussr]</td>\n",
       "    </tr>\n",
       "    <tr>\n",
       "      <th>1</th>\n",
       "      <td> TAIWAN REJECTS TEXTILE MAKERS EXCHANGE RATE PL...</td>\n",
       "      <td> [usa, taiwan]</td>\n",
       "    </tr>\n",
       "    <tr>\n",
       "      <th>2</th>\n",
       "      <td> NATIONAL FSI INC &lt;NFSI&gt; 4TH QTR LOSS\\n\\nShr lo...</td>\n",
       "      <td>   [earn, usa]</td>\n",
       "    </tr>\n",
       "    <tr>\n",
       "      <th>3</th>\n",
       "      <td> OCCIDENTAL &lt;OXY&gt; OFFICIAL RESIGNS\\n\\nMidCon Co...</td>\n",
       "      <td>         [usa]</td>\n",
       "    </tr>\n",
       "    <tr>\n",
       "      <th>4</th>\n",
       "      <td> ITALY'S BNL TO ISSUE 120 MLN DLR CONVERTIBLE B...</td>\n",
       "      <td>       [italy]</td>\n",
       "    </tr>\n",
       "  </tbody>\n",
       "</table>\n",
       "</div>"
      ],
      "text/plain": [
       "                                                text           tags\n",
       "0  SANDOZ PLANS WEEDKILLER JOINT VENTURE IN USSR\\...    [usa, ussr]\n",
       "1  TAIWAN REJECTS TEXTILE MAKERS EXCHANGE RATE PL...  [usa, taiwan]\n",
       "2  NATIONAL FSI INC <NFSI> 4TH QTR LOSS\\n\\nShr lo...    [earn, usa]\n",
       "3  OCCIDENTAL <OXY> OFFICIAL RESIGNS\\n\\nMidCon Co...          [usa]\n",
       "4  ITALY'S BNL TO ISSUE 120 MLN DLR CONVERTIBLE B...        [italy]"
      ]
     },
     "execution_count": 5,
     "metadata": {},
     "output_type": "execute_result"
    }
   ],
   "source": [
    "# 'text' is combined document title and body\n",
    "data.head()"
   ]
  },
  {
   "cell_type": "code",
   "execution_count": 6,
   "metadata": {
    "collapsed": false,
    "jupyter": {
     "outputs_hidden": false
    }
   },
   "outputs": [
    {
     "data": {
      "text/plain": [
       "array([[0, 0, 0, ..., 0, 0, 0],\n",
       "       [0, 0, 0, ..., 0, 0, 0],\n",
       "       [0, 0, 0, ..., 0, 0, 0],\n",
       "       ..., \n",
       "       [0, 0, 0, ..., 0, 0, 0],\n",
       "       [0, 0, 0, ..., 0, 0, 0],\n",
       "       [0, 0, 0, ..., 0, 0, 0]])"
      ]
     },
     "execution_count": 6,
     "metadata": {},
     "output_type": "execute_result"
    }
   ],
   "source": [
    "from sklearn.preprocessing import LabelBinarizer\n",
    "\n",
    "# binary encode the tags\n",
    "lb = LabelBinarizer()\n",
    "Y = lb.fit_transform(data.tags)\n",
    "Y"
   ]
  },
  {
   "cell_type": "code",
   "execution_count": 7,
   "metadata": {
    "collapsed": false,
    "jupyter": {
     "outputs_hidden": false
    }
   },
   "outputs": [
    {
     "data": {
      "text/plain": [
       "<19716x25497 sparse matrix of type '<type 'numpy.float64'>'\n",
       "\twith 1509007 stored elements in Compressed Sparse Row format>"
      ]
     },
     "execution_count": 7,
     "metadata": {},
     "output_type": "execute_result"
    }
   ],
   "source": [
    "from sklearn.feature_extraction.text import TfidfVectorizer\n",
    "\n",
    "# get the TF-IDF of the text\n",
    "vec = TfidfVectorizer(min_df=2, sublinear_tf=True, decode_error='ignore')\n",
    "X = vec.fit_transform(data.text)\n",
    "X"
   ]
  },
  {
   "cell_type": "code",
   "execution_count": 8,
   "metadata": {
    "collapsed": false,
    "jupyter": {
     "outputs_hidden": false
    }
   },
   "outputs": [],
   "source": [
    "# split into train and test set\n",
    "N = int(.8 * X.shape[0])\n",
    "Xtr, ytr = X[:N,:], Y[:N,:]\n",
    "Xte, yte = X[N:,:], Y[N:,:]"
   ]
  },
  {
   "cell_type": "code",
   "execution_count": 19,
   "metadata": {
    "collapsed": false,
    "jupyter": {
     "outputs_hidden": false
    }
   },
   "outputs": [],
   "source": [
    "# there are warnings of ill-defined recall/precision etc.\n",
    "# just ignore them for now\n",
    "import warnings\n",
    "warnings.filterwarnings(\"ignore\")"
   ]
  },
  {
   "cell_type": "code",
   "execution_count": 27,
   "metadata": {},
   "outputs": [
    {
     "data": {
      "text/plain": [
       "(0.83655035338102735, {'estimator__C': 31.622776601683793})"
      ]
     },
     "execution_count": 27,
     "metadata": {},
     "output_type": "execute_result"
    }
   ],
   "source": [
    "from sklearn.multiclass import OneVsRestClassifier\n",
    "from sklearn.linear_model import LogisticRegression\n",
    "from sklearn.grid_search import GridSearchCV\n",
    "\n",
    "# logistic regression parameter to optimise\n",
    "#params = {\"estimator__C\": np.logspace(1, 1.5, num=5)}\n",
    "# use OneVsRestClassifier for multiclass learning\n",
    "model = OneVsRestClassifier(LogisticRegression())\n",
    "# do a grid search on the params, with 5-fold cross-validation\n",
    "# optimise for F1-score\n",
    "clf = GridSearchCV(model, param_grid=params, scoring='f1', n_jobs=-1, cv=5)\n",
    "clf.fit(Xtr, ytr)\n",
    "clf.best_score_, clf.best_params_"
   ]
  },
  {
   "cell_type": "code",
   "execution_count": 28,
   "metadata": {
    "collapsed": false,
    "jupyter": {
     "outputs_hidden": false
    }
   },
   "outputs": [
    {
     "data": {
      "text/plain": [
       "0.77208685519257036"
      ]
     },
     "execution_count": 28,
     "metadata": {},
     "output_type": "execute_result"
    }
   ],
   "source": [
    "from sklearn.metrics import f1_score\n",
    "\n",
    "# compute predictions on test set\n",
    "pred = clf.predict(Xte)\n",
    "# compute F1-score on test set\n",
    "f1_score(yte, pred)"
   ]
  },
  {
   "cell_type": "code",
   "execution_count": 29,
   "metadata": {
    "collapsed": false,
    "jupyter": {
     "outputs_hidden": false
    }
   },
   "outputs": [
    {
     "data": {
      "text/html": [
       "<div style=\"max-height:1000px;max-width:1500px;overflow:auto;\">\n",
       "<table border=\"1\" class=\"dataframe\">\n",
       "  <thead>\n",
       "    <tr style=\"text-align: right;\">\n",
       "      <th></th>\n",
       "      <th>actual tags</th>\n",
       "      <th>predicted tags</th>\n",
       "    </tr>\n",
       "  </thead>\n",
       "  <tbody>\n",
       "    <tr>\n",
       "      <th>0 </th>\n",
       "      <td>                                       [earn, usa]</td>\n",
       "      <td>                    [earn, usa]</td>\n",
       "    </tr>\n",
       "    <tr>\n",
       "      <th>1 </th>\n",
       "      <td>                               [gnp, west-germany]</td>\n",
       "      <td>                 [west-germany]</td>\n",
       "    </tr>\n",
       "    <tr>\n",
       "      <th>2 </th>\n",
       "      <td>                                       [earn, usa]</td>\n",
       "      <td>                    [earn, usa]</td>\n",
       "    </tr>\n",
       "    <tr>\n",
       "      <th>3 </th>\n",
       "      <td>                                        [acq, usa]</td>\n",
       "      <td>                     [acq, usa]</td>\n",
       "    </tr>\n",
       "    <tr>\n",
       "      <th>4 </th>\n",
       "      <td>                                   [earn, uk, usa]</td>\n",
       "      <td>                             []</td>\n",
       "    </tr>\n",
       "    <tr>\n",
       "      <th>5 </th>\n",
       "      <td>                                             [usa]</td>\n",
       "      <td>                          [usa]</td>\n",
       "    </tr>\n",
       "    <tr>\n",
       "      <th>6 </th>\n",
       "      <td>                         [brazil, gnp, imf, trade]</td>\n",
       "      <td>                  [brazil, imf]</td>\n",
       "    </tr>\n",
       "    <tr>\n",
       "      <th>7 </th>\n",
       "      <td>                                             [usa]</td>\n",
       "      <td>                          [usa]</td>\n",
       "    </tr>\n",
       "    <tr>\n",
       "      <th>8 </th>\n",
       "      <td>                                        [cpu, usa]</td>\n",
       "      <td>                             []</td>\n",
       "    </tr>\n",
       "    <tr>\n",
       "      <th>9 </th>\n",
       "      <td>                                       [earn, usa]</td>\n",
       "      <td>                    [earn, usa]</td>\n",
       "    </tr>\n",
       "    <tr>\n",
       "      <th>10</th>\n",
       "      <td>                                          [france]</td>\n",
       "      <td>                       [france]</td>\n",
       "    </tr>\n",
       "    <tr>\n",
       "      <th>11</th>\n",
       "      <td>                                             [usa]</td>\n",
       "      <td>                          [usa]</td>\n",
       "    </tr>\n",
       "    <tr>\n",
       "      <th>12</th>\n",
       "      <td>                                       [earn, usa]</td>\n",
       "      <td>                    [earn, usa]</td>\n",
       "    </tr>\n",
       "    <tr>\n",
       "      <th>13</th>\n",
       "      <td>                                        [acq, usa]</td>\n",
       "      <td>                          [usa]</td>\n",
       "    </tr>\n",
       "    <tr>\n",
       "      <th>14</th>\n",
       "      <td>                                             [usa]</td>\n",
       "      <td>                          [usa]</td>\n",
       "    </tr>\n",
       "    <tr>\n",
       "      <th>15</th>\n",
       "      <td> [barley, corn, cotton, grain, sorghum, usa, wh...</td>\n",
       "      <td>      [corn, grain, usa, wheat]</td>\n",
       "    </tr>\n",
       "    <tr>\n",
       "      <th>16</th>\n",
       "      <td>                                         [belgium]</td>\n",
       "      <td>                             []</td>\n",
       "    </tr>\n",
       "    <tr>\n",
       "      <th>17</th>\n",
       "      <td>                                        [acq, usa]</td>\n",
       "      <td>                          [usa]</td>\n",
       "    </tr>\n",
       "    <tr>\n",
       "      <th>18</th>\n",
       "      <td>                                    [earn, sweden]</td>\n",
       "      <td>                 [earn, sweden]</td>\n",
       "    </tr>\n",
       "    <tr>\n",
       "      <th>19</th>\n",
       "      <td>                    [coffee, colombia, ico-coffee]</td>\n",
       "      <td> [coffee, colombia, ico-coffee]</td>\n",
       "    </tr>\n",
       "  </tbody>\n",
       "</table>\n",
       "</div>"
      ],
      "text/plain": [
       "                                          actual tags                  predicted tags\n",
       "0                                         [earn, usa]                     [earn, usa]\n",
       "1                                 [gnp, west-germany]                  [west-germany]\n",
       "2                                         [earn, usa]                     [earn, usa]\n",
       "3                                          [acq, usa]                      [acq, usa]\n",
       "4                                     [earn, uk, usa]                              []\n",
       "5                                               [usa]                           [usa]\n",
       "6                           [brazil, gnp, imf, trade]                   [brazil, imf]\n",
       "7                                               [usa]                           [usa]\n",
       "8                                          [cpu, usa]                              []\n",
       "9                                         [earn, usa]                     [earn, usa]\n",
       "10                                           [france]                        [france]\n",
       "11                                              [usa]                           [usa]\n",
       "12                                        [earn, usa]                     [earn, usa]\n",
       "13                                         [acq, usa]                           [usa]\n",
       "14                                              [usa]                           [usa]\n",
       "15  [barley, corn, cotton, grain, sorghum, usa, wh...       [corn, grain, usa, wheat]\n",
       "16                                          [belgium]                              []\n",
       "17                                         [acq, usa]                           [usa]\n",
       "18                                     [earn, sweden]                  [earn, sweden]\n",
       "19                     [coffee, colombia, ico-coffee]  [coffee, colombia, ico-coffee]"
      ]
     },
     "execution_count": 29,
     "metadata": {},
     "output_type": "execute_result"
    }
   ],
   "source": [
    "# a quick look into some example predictions\n",
    "# compare with tags in test data\n",
    "tags = []\n",
    "for n in xrange(20):\n",
    "    tags.append((lb.classes_[yte[n]==1], lb.classes_[pred[n]==1]))\n",
    "    \n",
    "pd.DataFrame(tags, columns=['actual tags', 'predicted tags'])"
   ]
  },
  {
   "cell_type": "code",
   "execution_count": null,
   "metadata": {
    "collapsed": false,
    "jupyter": {
     "outputs_hidden": false
    }
   },
   "outputs": [],
   "source": []
  }
 ],
 "metadata": {
  "kernelspec": {
   "display_name": "Python 3",
   "language": "python",
   "name": "python3"
  },
  "language_info": {
   "codemirror_mode": {
    "name": "ipython",
    "version": 3
   },
   "file_extension": ".py",
   "mimetype": "text/x-python",
   "name": "python",
   "nbconvert_exporter": "python",
   "pygments_lexer": "ipython3",
   "version": "3.7.3"
  }
 },
 "nbformat": 4,
 "nbformat_minor": 4
}
