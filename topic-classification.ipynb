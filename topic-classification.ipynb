{
  "nbformat": 4,
  "nbformat_minor": 0,
  "metadata": {
    "kernelspec": {
      "name": "python3",
      "display_name": "Python 3"
    },
    "colab": {
      "name": "topic-classification.ipynb",
      "provenance": [],
      "collapsed_sections": [],
      "toc_visible": true
    },
    "accelerator": "GPU",
    "widgets": {
      "application/vnd.jupyter.widget-state+json": {
        "e87fa402ca704a25a41c65c6f4dd2e84": {
          "model_module": "@jupyter-widgets/controls",
          "model_name": "HBoxModel",
          "state": {
            "_view_name": "HBoxView",
            "_dom_classes": [],
            "_model_name": "HBoxModel",
            "_view_module": "@jupyter-widgets/controls",
            "_model_module_version": "1.5.0",
            "_view_count": null,
            "_view_module_version": "1.5.0",
            "box_style": "",
            "layout": "IPY_MODEL_8c4db9db178c49f4b76ac96fc7de90a8",
            "_model_module": "@jupyter-widgets/controls",
            "children": [
              "IPY_MODEL_e4573fa0765b4a15b7ff6992e92d6b49",
              "IPY_MODEL_4d73152124094482b22e8107683c1029"
            ]
          }
        },
        "8c4db9db178c49f4b76ac96fc7de90a8": {
          "model_module": "@jupyter-widgets/base",
          "model_name": "LayoutModel",
          "state": {
            "_view_name": "LayoutView",
            "grid_template_rows": null,
            "right": null,
            "justify_content": null,
            "_view_module": "@jupyter-widgets/base",
            "overflow": null,
            "_model_module_version": "1.2.0",
            "_view_count": null,
            "flex_flow": null,
            "width": null,
            "min_width": null,
            "border": null,
            "align_items": null,
            "bottom": null,
            "_model_module": "@jupyter-widgets/base",
            "top": null,
            "grid_column": null,
            "overflow_y": null,
            "overflow_x": null,
            "grid_auto_flow": null,
            "grid_area": null,
            "grid_template_columns": null,
            "flex": null,
            "_model_name": "LayoutModel",
            "justify_items": null,
            "grid_row": null,
            "max_height": null,
            "align_content": null,
            "visibility": null,
            "align_self": null,
            "height": null,
            "min_height": null,
            "padding": null,
            "grid_auto_rows": null,
            "grid_gap": null,
            "max_width": null,
            "order": null,
            "_view_module_version": "1.2.0",
            "grid_template_areas": null,
            "object_position": null,
            "object_fit": null,
            "grid_auto_columns": null,
            "margin": null,
            "display": null,
            "left": null
          }
        },
        "e4573fa0765b4a15b7ff6992e92d6b49": {
          "model_module": "@jupyter-widgets/controls",
          "model_name": "FloatProgressModel",
          "state": {
            "_view_name": "ProgressView",
            "style": "IPY_MODEL_469377ffcfc344988429f7cded814bc2",
            "_dom_classes": [],
            "description": "Downloading: 100%",
            "_model_name": "FloatProgressModel",
            "bar_style": "success",
            "max": 898823,
            "_view_module": "@jupyter-widgets/controls",
            "_model_module_version": "1.5.0",
            "value": 898823,
            "_view_count": null,
            "_view_module_version": "1.5.0",
            "orientation": "horizontal",
            "min": 0,
            "description_tooltip": null,
            "_model_module": "@jupyter-widgets/controls",
            "layout": "IPY_MODEL_d1904c4984d546c5855d169f290809a0"
          }
        },
        "4d73152124094482b22e8107683c1029": {
          "model_module": "@jupyter-widgets/controls",
          "model_name": "HTMLModel",
          "state": {
            "_view_name": "HTMLView",
            "style": "IPY_MODEL_79f821d21a5d433db9001c0dcf834000",
            "_dom_classes": [],
            "description": "",
            "_model_name": "HTMLModel",
            "placeholder": "​",
            "_view_module": "@jupyter-widgets/controls",
            "_model_module_version": "1.5.0",
            "value": " 899k/899k [00:02&lt;00:00, 339kB/s]",
            "_view_count": null,
            "_view_module_version": "1.5.0",
            "description_tooltip": null,
            "_model_module": "@jupyter-widgets/controls",
            "layout": "IPY_MODEL_d70b7ab5c7c3403c931bac484a3fdfe5"
          }
        },
        "469377ffcfc344988429f7cded814bc2": {
          "model_module": "@jupyter-widgets/controls",
          "model_name": "ProgressStyleModel",
          "state": {
            "_view_name": "StyleView",
            "_model_name": "ProgressStyleModel",
            "description_width": "initial",
            "_view_module": "@jupyter-widgets/base",
            "_model_module_version": "1.5.0",
            "_view_count": null,
            "_view_module_version": "1.2.0",
            "bar_color": null,
            "_model_module": "@jupyter-widgets/controls"
          }
        },
        "d1904c4984d546c5855d169f290809a0": {
          "model_module": "@jupyter-widgets/base",
          "model_name": "LayoutModel",
          "state": {
            "_view_name": "LayoutView",
            "grid_template_rows": null,
            "right": null,
            "justify_content": null,
            "_view_module": "@jupyter-widgets/base",
            "overflow": null,
            "_model_module_version": "1.2.0",
            "_view_count": null,
            "flex_flow": null,
            "width": null,
            "min_width": null,
            "border": null,
            "align_items": null,
            "bottom": null,
            "_model_module": "@jupyter-widgets/base",
            "top": null,
            "grid_column": null,
            "overflow_y": null,
            "overflow_x": null,
            "grid_auto_flow": null,
            "grid_area": null,
            "grid_template_columns": null,
            "flex": null,
            "_model_name": "LayoutModel",
            "justify_items": null,
            "grid_row": null,
            "max_height": null,
            "align_content": null,
            "visibility": null,
            "align_self": null,
            "height": null,
            "min_height": null,
            "padding": null,
            "grid_auto_rows": null,
            "grid_gap": null,
            "max_width": null,
            "order": null,
            "_view_module_version": "1.2.0",
            "grid_template_areas": null,
            "object_position": null,
            "object_fit": null,
            "grid_auto_columns": null,
            "margin": null,
            "display": null,
            "left": null
          }
        },
        "79f821d21a5d433db9001c0dcf834000": {
          "model_module": "@jupyter-widgets/controls",
          "model_name": "DescriptionStyleModel",
          "state": {
            "_view_name": "StyleView",
            "_model_name": "DescriptionStyleModel",
            "description_width": "",
            "_view_module": "@jupyter-widgets/base",
            "_model_module_version": "1.5.0",
            "_view_count": null,
            "_view_module_version": "1.2.0",
            "_model_module": "@jupyter-widgets/controls"
          }
        },
        "d70b7ab5c7c3403c931bac484a3fdfe5": {
          "model_module": "@jupyter-widgets/base",
          "model_name": "LayoutModel",
          "state": {
            "_view_name": "LayoutView",
            "grid_template_rows": null,
            "right": null,
            "justify_content": null,
            "_view_module": "@jupyter-widgets/base",
            "overflow": null,
            "_model_module_version": "1.2.0",
            "_view_count": null,
            "flex_flow": null,
            "width": null,
            "min_width": null,
            "border": null,
            "align_items": null,
            "bottom": null,
            "_model_module": "@jupyter-widgets/base",
            "top": null,
            "grid_column": null,
            "overflow_y": null,
            "overflow_x": null,
            "grid_auto_flow": null,
            "grid_area": null,
            "grid_template_columns": null,
            "flex": null,
            "_model_name": "LayoutModel",
            "justify_items": null,
            "grid_row": null,
            "max_height": null,
            "align_content": null,
            "visibility": null,
            "align_self": null,
            "height": null,
            "min_height": null,
            "padding": null,
            "grid_auto_rows": null,
            "grid_gap": null,
            "max_width": null,
            "order": null,
            "_view_module_version": "1.2.0",
            "grid_template_areas": null,
            "object_position": null,
            "object_fit": null,
            "grid_auto_columns": null,
            "margin": null,
            "display": null,
            "left": null
          }
        },
        "badd8b8626124442af9c6cced5837f37": {
          "model_module": "@jupyter-widgets/controls",
          "model_name": "HBoxModel",
          "state": {
            "_view_name": "HBoxView",
            "_dom_classes": [],
            "_model_name": "HBoxModel",
            "_view_module": "@jupyter-widgets/controls",
            "_model_module_version": "1.5.0",
            "_view_count": null,
            "_view_module_version": "1.5.0",
            "box_style": "",
            "layout": "IPY_MODEL_316bf38767cd44259d5f79e64e4a1fc4",
            "_model_module": "@jupyter-widgets/controls",
            "children": [
              "IPY_MODEL_950e420c872c475da7856d0368306bf2",
              "IPY_MODEL_55f39f5485374bb2b3c4f79b433fad8a"
            ]
          }
        },
        "316bf38767cd44259d5f79e64e4a1fc4": {
          "model_module": "@jupyter-widgets/base",
          "model_name": "LayoutModel",
          "state": {
            "_view_name": "LayoutView",
            "grid_template_rows": null,
            "right": null,
            "justify_content": null,
            "_view_module": "@jupyter-widgets/base",
            "overflow": null,
            "_model_module_version": "1.2.0",
            "_view_count": null,
            "flex_flow": null,
            "width": null,
            "min_width": null,
            "border": null,
            "align_items": null,
            "bottom": null,
            "_model_module": "@jupyter-widgets/base",
            "top": null,
            "grid_column": null,
            "overflow_y": null,
            "overflow_x": null,
            "grid_auto_flow": null,
            "grid_area": null,
            "grid_template_columns": null,
            "flex": null,
            "_model_name": "LayoutModel",
            "justify_items": null,
            "grid_row": null,
            "max_height": null,
            "align_content": null,
            "visibility": null,
            "align_self": null,
            "height": null,
            "min_height": null,
            "padding": null,
            "grid_auto_rows": null,
            "grid_gap": null,
            "max_width": null,
            "order": null,
            "_view_module_version": "1.2.0",
            "grid_template_areas": null,
            "object_position": null,
            "object_fit": null,
            "grid_auto_columns": null,
            "margin": null,
            "display": null,
            "left": null
          }
        },
        "950e420c872c475da7856d0368306bf2": {
          "model_module": "@jupyter-widgets/controls",
          "model_name": "FloatProgressModel",
          "state": {
            "_view_name": "ProgressView",
            "style": "IPY_MODEL_47fbcb95d4684bfa8e360171e5c2610b",
            "_dom_classes": [],
            "description": "Downloading: 100%",
            "_model_name": "FloatProgressModel",
            "bar_style": "success",
            "max": 456318,
            "_view_module": "@jupyter-widgets/controls",
            "_model_module_version": "1.5.0",
            "value": 456318,
            "_view_count": null,
            "_view_module_version": "1.5.0",
            "orientation": "horizontal",
            "min": 0,
            "description_tooltip": null,
            "_model_module": "@jupyter-widgets/controls",
            "layout": "IPY_MODEL_39233b87ee37428092665c8c8be6143a"
          }
        },
        "55f39f5485374bb2b3c4f79b433fad8a": {
          "model_module": "@jupyter-widgets/controls",
          "model_name": "HTMLModel",
          "state": {
            "_view_name": "HTMLView",
            "style": "IPY_MODEL_d81c109b1807468db5497ec9452f0d29",
            "_dom_classes": [],
            "description": "",
            "_model_name": "HTMLModel",
            "placeholder": "​",
            "_view_module": "@jupyter-widgets/controls",
            "_model_module_version": "1.5.0",
            "value": " 456k/456k [00:00&lt;00:00, 576kB/s]",
            "_view_count": null,
            "_view_module_version": "1.5.0",
            "description_tooltip": null,
            "_model_module": "@jupyter-widgets/controls",
            "layout": "IPY_MODEL_8083e54d3ba8484f909f3fee9a2e6b89"
          }
        },
        "47fbcb95d4684bfa8e360171e5c2610b": {
          "model_module": "@jupyter-widgets/controls",
          "model_name": "ProgressStyleModel",
          "state": {
            "_view_name": "StyleView",
            "_model_name": "ProgressStyleModel",
            "description_width": "initial",
            "_view_module": "@jupyter-widgets/base",
            "_model_module_version": "1.5.0",
            "_view_count": null,
            "_view_module_version": "1.2.0",
            "bar_color": null,
            "_model_module": "@jupyter-widgets/controls"
          }
        },
        "39233b87ee37428092665c8c8be6143a": {
          "model_module": "@jupyter-widgets/base",
          "model_name": "LayoutModel",
          "state": {
            "_view_name": "LayoutView",
            "grid_template_rows": null,
            "right": null,
            "justify_content": null,
            "_view_module": "@jupyter-widgets/base",
            "overflow": null,
            "_model_module_version": "1.2.0",
            "_view_count": null,
            "flex_flow": null,
            "width": null,
            "min_width": null,
            "border": null,
            "align_items": null,
            "bottom": null,
            "_model_module": "@jupyter-widgets/base",
            "top": null,
            "grid_column": null,
            "overflow_y": null,
            "overflow_x": null,
            "grid_auto_flow": null,
            "grid_area": null,
            "grid_template_columns": null,
            "flex": null,
            "_model_name": "LayoutModel",
            "justify_items": null,
            "grid_row": null,
            "max_height": null,
            "align_content": null,
            "visibility": null,
            "align_self": null,
            "height": null,
            "min_height": null,
            "padding": null,
            "grid_auto_rows": null,
            "grid_gap": null,
            "max_width": null,
            "order": null,
            "_view_module_version": "1.2.0",
            "grid_template_areas": null,
            "object_position": null,
            "object_fit": null,
            "grid_auto_columns": null,
            "margin": null,
            "display": null,
            "left": null
          }
        },
        "d81c109b1807468db5497ec9452f0d29": {
          "model_module": "@jupyter-widgets/controls",
          "model_name": "DescriptionStyleModel",
          "state": {
            "_view_name": "StyleView",
            "_model_name": "DescriptionStyleModel",
            "description_width": "",
            "_view_module": "@jupyter-widgets/base",
            "_model_module_version": "1.5.0",
            "_view_count": null,
            "_view_module_version": "1.2.0",
            "_model_module": "@jupyter-widgets/controls"
          }
        },
        "8083e54d3ba8484f909f3fee9a2e6b89": {
          "model_module": "@jupyter-widgets/base",
          "model_name": "LayoutModel",
          "state": {
            "_view_name": "LayoutView",
            "grid_template_rows": null,
            "right": null,
            "justify_content": null,
            "_view_module": "@jupyter-widgets/base",
            "overflow": null,
            "_model_module_version": "1.2.0",
            "_view_count": null,
            "flex_flow": null,
            "width": null,
            "min_width": null,
            "border": null,
            "align_items": null,
            "bottom": null,
            "_model_module": "@jupyter-widgets/base",
            "top": null,
            "grid_column": null,
            "overflow_y": null,
            "overflow_x": null,
            "grid_auto_flow": null,
            "grid_area": null,
            "grid_template_columns": null,
            "flex": null,
            "_model_name": "LayoutModel",
            "justify_items": null,
            "grid_row": null,
            "max_height": null,
            "align_content": null,
            "visibility": null,
            "align_self": null,
            "height": null,
            "min_height": null,
            "padding": null,
            "grid_auto_rows": null,
            "grid_gap": null,
            "max_width": null,
            "order": null,
            "_view_module_version": "1.2.0",
            "grid_template_areas": null,
            "object_position": null,
            "object_fit": null,
            "grid_auto_columns": null,
            "margin": null,
            "display": null,
            "left": null
          }
        },
        "e12a3f987124469c9558eb16725f72a6": {
          "model_module": "@jupyter-widgets/controls",
          "model_name": "HBoxModel",
          "state": {
            "_view_name": "HBoxView",
            "_dom_classes": [],
            "_model_name": "HBoxModel",
            "_view_module": "@jupyter-widgets/controls",
            "_model_module_version": "1.5.0",
            "_view_count": null,
            "_view_module_version": "1.5.0",
            "box_style": "",
            "layout": "IPY_MODEL_92bf9ae90a9c4d0b9da035687afb332f",
            "_model_module": "@jupyter-widgets/controls",
            "children": [
              "IPY_MODEL_65dbbcd15367465983d51d0adc6a1df6",
              "IPY_MODEL_1d2e0084eab045a99a8bc4ca3c02e58b"
            ]
          }
        },
        "92bf9ae90a9c4d0b9da035687afb332f": {
          "model_module": "@jupyter-widgets/base",
          "model_name": "LayoutModel",
          "state": {
            "_view_name": "LayoutView",
            "grid_template_rows": null,
            "right": null,
            "justify_content": null,
            "_view_module": "@jupyter-widgets/base",
            "overflow": null,
            "_model_module_version": "1.2.0",
            "_view_count": null,
            "flex_flow": null,
            "width": null,
            "min_width": null,
            "border": null,
            "align_items": null,
            "bottom": null,
            "_model_module": "@jupyter-widgets/base",
            "top": null,
            "grid_column": null,
            "overflow_y": null,
            "overflow_x": null,
            "grid_auto_flow": null,
            "grid_area": null,
            "grid_template_columns": null,
            "flex": null,
            "_model_name": "LayoutModel",
            "justify_items": null,
            "grid_row": null,
            "max_height": null,
            "align_content": null,
            "visibility": null,
            "align_self": null,
            "height": null,
            "min_height": null,
            "padding": null,
            "grid_auto_rows": null,
            "grid_gap": null,
            "max_width": null,
            "order": null,
            "_view_module_version": "1.2.0",
            "grid_template_areas": null,
            "object_position": null,
            "object_fit": null,
            "grid_auto_columns": null,
            "margin": null,
            "display": null,
            "left": null
          }
        },
        "65dbbcd15367465983d51d0adc6a1df6": {
          "model_module": "@jupyter-widgets/controls",
          "model_name": "FloatProgressModel",
          "state": {
            "_view_name": "ProgressView",
            "style": "IPY_MODEL_8b4cffd5c4f641dc9d77c326aac9c117",
            "_dom_classes": [],
            "description": "100%",
            "_model_name": "FloatProgressModel",
            "bar_style": "success",
            "max": 14668,
            "_view_module": "@jupyter-widgets/controls",
            "_model_module_version": "1.5.0",
            "value": 14668,
            "_view_count": null,
            "_view_module_version": "1.5.0",
            "orientation": "horizontal",
            "min": 0,
            "description_tooltip": null,
            "_model_module": "@jupyter-widgets/controls",
            "layout": "IPY_MODEL_144c888e7ca14db9a3bdfed6f76d58b0"
          }
        },
        "1d2e0084eab045a99a8bc4ca3c02e58b": {
          "model_module": "@jupyter-widgets/controls",
          "model_name": "HTMLModel",
          "state": {
            "_view_name": "HTMLView",
            "style": "IPY_MODEL_77de3d989fe34864a1584b2ca22f1ccf",
            "_dom_classes": [],
            "description": "",
            "_model_name": "HTMLModel",
            "placeholder": "​",
            "_view_module": "@jupyter-widgets/controls",
            "_model_module_version": "1.5.0",
            "value": " 14668/14668 [13:40&lt;00:00, 17.87it/s]",
            "_view_count": null,
            "_view_module_version": "1.5.0",
            "description_tooltip": null,
            "_model_module": "@jupyter-widgets/controls",
            "layout": "IPY_MODEL_0ee01cfa331f4c7dafe63c29ad4172be"
          }
        },
        "8b4cffd5c4f641dc9d77c326aac9c117": {
          "model_module": "@jupyter-widgets/controls",
          "model_name": "ProgressStyleModel",
          "state": {
            "_view_name": "StyleView",
            "_model_name": "ProgressStyleModel",
            "description_width": "initial",
            "_view_module": "@jupyter-widgets/base",
            "_model_module_version": "1.5.0",
            "_view_count": null,
            "_view_module_version": "1.2.0",
            "bar_color": null,
            "_model_module": "@jupyter-widgets/controls"
          }
        },
        "144c888e7ca14db9a3bdfed6f76d58b0": {
          "model_module": "@jupyter-widgets/base",
          "model_name": "LayoutModel",
          "state": {
            "_view_name": "LayoutView",
            "grid_template_rows": null,
            "right": null,
            "justify_content": null,
            "_view_module": "@jupyter-widgets/base",
            "overflow": null,
            "_model_module_version": "1.2.0",
            "_view_count": null,
            "flex_flow": null,
            "width": null,
            "min_width": null,
            "border": null,
            "align_items": null,
            "bottom": null,
            "_model_module": "@jupyter-widgets/base",
            "top": null,
            "grid_column": null,
            "overflow_y": null,
            "overflow_x": null,
            "grid_auto_flow": null,
            "grid_area": null,
            "grid_template_columns": null,
            "flex": null,
            "_model_name": "LayoutModel",
            "justify_items": null,
            "grid_row": null,
            "max_height": null,
            "align_content": null,
            "visibility": null,
            "align_self": null,
            "height": null,
            "min_height": null,
            "padding": null,
            "grid_auto_rows": null,
            "grid_gap": null,
            "max_width": null,
            "order": null,
            "_view_module_version": "1.2.0",
            "grid_template_areas": null,
            "object_position": null,
            "object_fit": null,
            "grid_auto_columns": null,
            "margin": null,
            "display": null,
            "left": null
          }
        },
        "77de3d989fe34864a1584b2ca22f1ccf": {
          "model_module": "@jupyter-widgets/controls",
          "model_name": "DescriptionStyleModel",
          "state": {
            "_view_name": "StyleView",
            "_model_name": "DescriptionStyleModel",
            "description_width": "",
            "_view_module": "@jupyter-widgets/base",
            "_model_module_version": "1.5.0",
            "_view_count": null,
            "_view_module_version": "1.2.0",
            "_model_module": "@jupyter-widgets/controls"
          }
        },
        "0ee01cfa331f4c7dafe63c29ad4172be": {
          "model_module": "@jupyter-widgets/base",
          "model_name": "LayoutModel",
          "state": {
            "_view_name": "LayoutView",
            "grid_template_rows": null,
            "right": null,
            "justify_content": null,
            "_view_module": "@jupyter-widgets/base",
            "overflow": null,
            "_model_module_version": "1.2.0",
            "_view_count": null,
            "flex_flow": null,
            "width": null,
            "min_width": null,
            "border": null,
            "align_items": null,
            "bottom": null,
            "_model_module": "@jupyter-widgets/base",
            "top": null,
            "grid_column": null,
            "overflow_y": null,
            "overflow_x": null,
            "grid_auto_flow": null,
            "grid_area": null,
            "grid_template_columns": null,
            "flex": null,
            "_model_name": "LayoutModel",
            "justify_items": null,
            "grid_row": null,
            "max_height": null,
            "align_content": null,
            "visibility": null,
            "align_self": null,
            "height": null,
            "min_height": null,
            "padding": null,
            "grid_auto_rows": null,
            "grid_gap": null,
            "max_width": null,
            "order": null,
            "_view_module_version": "1.2.0",
            "grid_template_areas": null,
            "object_position": null,
            "object_fit": null,
            "grid_auto_columns": null,
            "margin": null,
            "display": null,
            "left": null
          }
        },
        "d6e245ebf52b467585692cbd126db60a": {
          "model_module": "@jupyter-widgets/controls",
          "model_name": "HBoxModel",
          "state": {
            "_view_name": "HBoxView",
            "_dom_classes": [],
            "_model_name": "HBoxModel",
            "_view_module": "@jupyter-widgets/controls",
            "_model_module_version": "1.5.0",
            "_view_count": null,
            "_view_module_version": "1.5.0",
            "box_style": "",
            "layout": "IPY_MODEL_dad9b11d95bf49deaac099991ed91ae9",
            "_model_module": "@jupyter-widgets/controls",
            "children": [
              "IPY_MODEL_f91153a35a7444fca1838eb837b2e067",
              "IPY_MODEL_0f85416faad84c4a9fb4880a958f1f20"
            ]
          }
        },
        "dad9b11d95bf49deaac099991ed91ae9": {
          "model_module": "@jupyter-widgets/base",
          "model_name": "LayoutModel",
          "state": {
            "_view_name": "LayoutView",
            "grid_template_rows": null,
            "right": null,
            "justify_content": null,
            "_view_module": "@jupyter-widgets/base",
            "overflow": null,
            "_model_module_version": "1.2.0",
            "_view_count": null,
            "flex_flow": null,
            "width": null,
            "min_width": null,
            "border": null,
            "align_items": null,
            "bottom": null,
            "_model_module": "@jupyter-widgets/base",
            "top": null,
            "grid_column": null,
            "overflow_y": null,
            "overflow_x": null,
            "grid_auto_flow": null,
            "grid_area": null,
            "grid_template_columns": null,
            "flex": null,
            "_model_name": "LayoutModel",
            "justify_items": null,
            "grid_row": null,
            "max_height": null,
            "align_content": null,
            "visibility": null,
            "align_self": null,
            "height": null,
            "min_height": null,
            "padding": null,
            "grid_auto_rows": null,
            "grid_gap": null,
            "max_width": null,
            "order": null,
            "_view_module_version": "1.2.0",
            "grid_template_areas": null,
            "object_position": null,
            "object_fit": null,
            "grid_auto_columns": null,
            "margin": null,
            "display": null,
            "left": null
          }
        },
        "f91153a35a7444fca1838eb837b2e067": {
          "model_module": "@jupyter-widgets/controls",
          "model_name": "FloatProgressModel",
          "state": {
            "_view_name": "ProgressView",
            "style": "IPY_MODEL_a9a0dd13fc3f48b495133cab6f88d2aa",
            "_dom_classes": [],
            "description": "Epoch 1 of 1: 100%",
            "_model_name": "FloatProgressModel",
            "bar_style": "success",
            "max": 1,
            "_view_module": "@jupyter-widgets/controls",
            "_model_module_version": "1.5.0",
            "value": 1,
            "_view_count": null,
            "_view_module_version": "1.5.0",
            "orientation": "horizontal",
            "min": 0,
            "description_tooltip": null,
            "_model_module": "@jupyter-widgets/controls",
            "layout": "IPY_MODEL_cbe382f62e564916a82a632ab2ee4a6e"
          }
        },
        "0f85416faad84c4a9fb4880a958f1f20": {
          "model_module": "@jupyter-widgets/controls",
          "model_name": "HTMLModel",
          "state": {
            "_view_name": "HTMLView",
            "style": "IPY_MODEL_bf404616cf46462ea1a77dc23d1ebcdd",
            "_dom_classes": [],
            "description": "",
            "_model_name": "HTMLModel",
            "placeholder": "​",
            "_view_module": "@jupyter-widgets/controls",
            "_model_module_version": "1.5.0",
            "value": " 1/1 [35:03&lt;00:00, 2103.57s/it]",
            "_view_count": null,
            "_view_module_version": "1.5.0",
            "description_tooltip": null,
            "_model_module": "@jupyter-widgets/controls",
            "layout": "IPY_MODEL_d26f3d5156a544448536f091f33cd1a9"
          }
        },
        "a9a0dd13fc3f48b495133cab6f88d2aa": {
          "model_module": "@jupyter-widgets/controls",
          "model_name": "ProgressStyleModel",
          "state": {
            "_view_name": "StyleView",
            "_model_name": "ProgressStyleModel",
            "description_width": "initial",
            "_view_module": "@jupyter-widgets/base",
            "_model_module_version": "1.5.0",
            "_view_count": null,
            "_view_module_version": "1.2.0",
            "bar_color": null,
            "_model_module": "@jupyter-widgets/controls"
          }
        },
        "cbe382f62e564916a82a632ab2ee4a6e": {
          "model_module": "@jupyter-widgets/base",
          "model_name": "LayoutModel",
          "state": {
            "_view_name": "LayoutView",
            "grid_template_rows": null,
            "right": null,
            "justify_content": null,
            "_view_module": "@jupyter-widgets/base",
            "overflow": null,
            "_model_module_version": "1.2.0",
            "_view_count": null,
            "flex_flow": null,
            "width": null,
            "min_width": null,
            "border": null,
            "align_items": null,
            "bottom": null,
            "_model_module": "@jupyter-widgets/base",
            "top": null,
            "grid_column": null,
            "overflow_y": null,
            "overflow_x": null,
            "grid_auto_flow": null,
            "grid_area": null,
            "grid_template_columns": null,
            "flex": null,
            "_model_name": "LayoutModel",
            "justify_items": null,
            "grid_row": null,
            "max_height": null,
            "align_content": null,
            "visibility": null,
            "align_self": null,
            "height": null,
            "min_height": null,
            "padding": null,
            "grid_auto_rows": null,
            "grid_gap": null,
            "max_width": null,
            "order": null,
            "_view_module_version": "1.2.0",
            "grid_template_areas": null,
            "object_position": null,
            "object_fit": null,
            "grid_auto_columns": null,
            "margin": null,
            "display": null,
            "left": null
          }
        },
        "bf404616cf46462ea1a77dc23d1ebcdd": {
          "model_module": "@jupyter-widgets/controls",
          "model_name": "DescriptionStyleModel",
          "state": {
            "_view_name": "StyleView",
            "_model_name": "DescriptionStyleModel",
            "description_width": "",
            "_view_module": "@jupyter-widgets/base",
            "_model_module_version": "1.5.0",
            "_view_count": null,
            "_view_module_version": "1.2.0",
            "_model_module": "@jupyter-widgets/controls"
          }
        },
        "d26f3d5156a544448536f091f33cd1a9": {
          "model_module": "@jupyter-widgets/base",
          "model_name": "LayoutModel",
          "state": {
            "_view_name": "LayoutView",
            "grid_template_rows": null,
            "right": null,
            "justify_content": null,
            "_view_module": "@jupyter-widgets/base",
            "overflow": null,
            "_model_module_version": "1.2.0",
            "_view_count": null,
            "flex_flow": null,
            "width": null,
            "min_width": null,
            "border": null,
            "align_items": null,
            "bottom": null,
            "_model_module": "@jupyter-widgets/base",
            "top": null,
            "grid_column": null,
            "overflow_y": null,
            "overflow_x": null,
            "grid_auto_flow": null,
            "grid_area": null,
            "grid_template_columns": null,
            "flex": null,
            "_model_name": "LayoutModel",
            "justify_items": null,
            "grid_row": null,
            "max_height": null,
            "align_content": null,
            "visibility": null,
            "align_self": null,
            "height": null,
            "min_height": null,
            "padding": null,
            "grid_auto_rows": null,
            "grid_gap": null,
            "max_width": null,
            "order": null,
            "_view_module_version": "1.2.0",
            "grid_template_areas": null,
            "object_position": null,
            "object_fit": null,
            "grid_auto_columns": null,
            "margin": null,
            "display": null,
            "left": null
          }
        },
        "4d2c8ebe22fb4e59b694c65bb2a5ce63": {
          "model_module": "@jupyter-widgets/controls",
          "model_name": "HBoxModel",
          "state": {
            "_view_name": "HBoxView",
            "_dom_classes": [],
            "_model_name": "HBoxModel",
            "_view_module": "@jupyter-widgets/controls",
            "_model_module_version": "1.5.0",
            "_view_count": null,
            "_view_module_version": "1.5.0",
            "box_style": "",
            "layout": "IPY_MODEL_a72abd6bae7047d7bd2a60bec50f2dfa",
            "_model_module": "@jupyter-widgets/controls",
            "children": [
              "IPY_MODEL_11bb5d74da3242538c1c947a25cee48a",
              "IPY_MODEL_61c2e887f0e54e03a9d29c200aa16238"
            ]
          }
        },
        "a72abd6bae7047d7bd2a60bec50f2dfa": {
          "model_module": "@jupyter-widgets/base",
          "model_name": "LayoutModel",
          "state": {
            "_view_name": "LayoutView",
            "grid_template_rows": null,
            "right": null,
            "justify_content": null,
            "_view_module": "@jupyter-widgets/base",
            "overflow": null,
            "_model_module_version": "1.2.0",
            "_view_count": null,
            "flex_flow": null,
            "width": null,
            "min_width": null,
            "border": null,
            "align_items": null,
            "bottom": null,
            "_model_module": "@jupyter-widgets/base",
            "top": null,
            "grid_column": null,
            "overflow_y": null,
            "overflow_x": null,
            "grid_auto_flow": null,
            "grid_area": null,
            "grid_template_columns": null,
            "flex": null,
            "_model_name": "LayoutModel",
            "justify_items": null,
            "grid_row": null,
            "max_height": null,
            "align_content": null,
            "visibility": null,
            "align_self": null,
            "height": null,
            "min_height": null,
            "padding": null,
            "grid_auto_rows": null,
            "grid_gap": null,
            "max_width": null,
            "order": null,
            "_view_module_version": "1.2.0",
            "grid_template_areas": null,
            "object_position": null,
            "object_fit": null,
            "grid_auto_columns": null,
            "margin": null,
            "display": null,
            "left": null
          }
        },
        "11bb5d74da3242538c1c947a25cee48a": {
          "model_module": "@jupyter-widgets/controls",
          "model_name": "FloatProgressModel",
          "state": {
            "_view_name": "ProgressView",
            "style": "IPY_MODEL_4b48c0cd91374fef9ee4f55051705127",
            "_dom_classes": [],
            "description": "Epochs 0/1. Running Loss:    0.0046: 100%",
            "_model_name": "FloatProgressModel",
            "bar_style": "success",
            "max": 3984,
            "_view_module": "@jupyter-widgets/controls",
            "_model_module_version": "1.5.0",
            "value": 3984,
            "_view_count": null,
            "_view_module_version": "1.5.0",
            "orientation": "horizontal",
            "min": 0,
            "description_tooltip": null,
            "_model_module": "@jupyter-widgets/controls",
            "layout": "IPY_MODEL_279f50bb909844099d3b39a4112e4c19"
          }
        },
        "61c2e887f0e54e03a9d29c200aa16238": {
          "model_module": "@jupyter-widgets/controls",
          "model_name": "HTMLModel",
          "state": {
            "_view_name": "HTMLView",
            "style": "IPY_MODEL_4bc92a9d00b6461da1d5c9d462751c37",
            "_dom_classes": [],
            "description": "",
            "_model_name": "HTMLModel",
            "placeholder": "​",
            "_view_module": "@jupyter-widgets/controls",
            "_model_module_version": "1.5.0",
            "value": " 3984/3984 [35:03&lt;00:00,  1.89it/s]",
            "_view_count": null,
            "_view_module_version": "1.5.0",
            "description_tooltip": null,
            "_model_module": "@jupyter-widgets/controls",
            "layout": "IPY_MODEL_a6d7af5585464d2f9ef2eb591a758784"
          }
        },
        "4b48c0cd91374fef9ee4f55051705127": {
          "model_module": "@jupyter-widgets/controls",
          "model_name": "ProgressStyleModel",
          "state": {
            "_view_name": "StyleView",
            "_model_name": "ProgressStyleModel",
            "description_width": "initial",
            "_view_module": "@jupyter-widgets/base",
            "_model_module_version": "1.5.0",
            "_view_count": null,
            "_view_module_version": "1.2.0",
            "bar_color": null,
            "_model_module": "@jupyter-widgets/controls"
          }
        },
        "279f50bb909844099d3b39a4112e4c19": {
          "model_module": "@jupyter-widgets/base",
          "model_name": "LayoutModel",
          "state": {
            "_view_name": "LayoutView",
            "grid_template_rows": null,
            "right": null,
            "justify_content": null,
            "_view_module": "@jupyter-widgets/base",
            "overflow": null,
            "_model_module_version": "1.2.0",
            "_view_count": null,
            "flex_flow": null,
            "width": null,
            "min_width": null,
            "border": null,
            "align_items": null,
            "bottom": null,
            "_model_module": "@jupyter-widgets/base",
            "top": null,
            "grid_column": null,
            "overflow_y": null,
            "overflow_x": null,
            "grid_auto_flow": null,
            "grid_area": null,
            "grid_template_columns": null,
            "flex": null,
            "_model_name": "LayoutModel",
            "justify_items": null,
            "grid_row": null,
            "max_height": null,
            "align_content": null,
            "visibility": null,
            "align_self": null,
            "height": null,
            "min_height": null,
            "padding": null,
            "grid_auto_rows": null,
            "grid_gap": null,
            "max_width": null,
            "order": null,
            "_view_module_version": "1.2.0",
            "grid_template_areas": null,
            "object_position": null,
            "object_fit": null,
            "grid_auto_columns": null,
            "margin": null,
            "display": null,
            "left": null
          }
        },
        "4bc92a9d00b6461da1d5c9d462751c37": {
          "model_module": "@jupyter-widgets/controls",
          "model_name": "DescriptionStyleModel",
          "state": {
            "_view_name": "StyleView",
            "_model_name": "DescriptionStyleModel",
            "description_width": "",
            "_view_module": "@jupyter-widgets/base",
            "_model_module_version": "1.5.0",
            "_view_count": null,
            "_view_module_version": "1.2.0",
            "_model_module": "@jupyter-widgets/controls"
          }
        },
        "a6d7af5585464d2f9ef2eb591a758784": {
          "model_module": "@jupyter-widgets/base",
          "model_name": "LayoutModel",
          "state": {
            "_view_name": "LayoutView",
            "grid_template_rows": null,
            "right": null,
            "justify_content": null,
            "_view_module": "@jupyter-widgets/base",
            "overflow": null,
            "_model_module_version": "1.2.0",
            "_view_count": null,
            "flex_flow": null,
            "width": null,
            "min_width": null,
            "border": null,
            "align_items": null,
            "bottom": null,
            "_model_module": "@jupyter-widgets/base",
            "top": null,
            "grid_column": null,
            "overflow_y": null,
            "overflow_x": null,
            "grid_auto_flow": null,
            "grid_area": null,
            "grid_template_columns": null,
            "flex": null,
            "_model_name": "LayoutModel",
            "justify_items": null,
            "grid_row": null,
            "max_height": null,
            "align_content": null,
            "visibility": null,
            "align_self": null,
            "height": null,
            "min_height": null,
            "padding": null,
            "grid_auto_rows": null,
            "grid_gap": null,
            "max_width": null,
            "order": null,
            "_view_module_version": "1.2.0",
            "grid_template_areas": null,
            "object_position": null,
            "object_fit": null,
            "grid_auto_columns": null,
            "margin": null,
            "display": null,
            "left": null
          }
        },
        "d9cf44c706f047aba1679dfd26107654": {
          "model_module": "@jupyter-widgets/controls",
          "model_name": "HBoxModel",
          "state": {
            "_view_name": "HBoxView",
            "_dom_classes": [],
            "_model_name": "HBoxModel",
            "_view_module": "@jupyter-widgets/controls",
            "_model_module_version": "1.5.0",
            "_view_count": null,
            "_view_module_version": "1.5.0",
            "box_style": "",
            "layout": "IPY_MODEL_666543b562d04f11bd9769a275258a2f",
            "_model_module": "@jupyter-widgets/controls",
            "children": [
              "IPY_MODEL_ef5edebb167c44898e04d4fa1b53781d",
              "IPY_MODEL_b3ec128bc8e74d999f221ac1d280a866"
            ]
          }
        },
        "666543b562d04f11bd9769a275258a2f": {
          "model_module": "@jupyter-widgets/base",
          "model_name": "LayoutModel",
          "state": {
            "_view_name": "LayoutView",
            "grid_template_rows": null,
            "right": null,
            "justify_content": null,
            "_view_module": "@jupyter-widgets/base",
            "overflow": null,
            "_model_module_version": "1.2.0",
            "_view_count": null,
            "flex_flow": null,
            "width": null,
            "min_width": null,
            "border": null,
            "align_items": null,
            "bottom": null,
            "_model_module": "@jupyter-widgets/base",
            "top": null,
            "grid_column": null,
            "overflow_y": null,
            "overflow_x": null,
            "grid_auto_flow": null,
            "grid_area": null,
            "grid_template_columns": null,
            "flex": null,
            "_model_name": "LayoutModel",
            "justify_items": null,
            "grid_row": null,
            "max_height": null,
            "align_content": null,
            "visibility": null,
            "align_self": null,
            "height": null,
            "min_height": null,
            "padding": null,
            "grid_auto_rows": null,
            "grid_gap": null,
            "max_width": null,
            "order": null,
            "_view_module_version": "1.2.0",
            "grid_template_areas": null,
            "object_position": null,
            "object_fit": null,
            "grid_auto_columns": null,
            "margin": null,
            "display": null,
            "left": null
          }
        },
        "ef5edebb167c44898e04d4fa1b53781d": {
          "model_module": "@jupyter-widgets/controls",
          "model_name": "FloatProgressModel",
          "state": {
            "_view_name": "ProgressView",
            "style": "IPY_MODEL_c0ec446e16e44341ab56e25331577ada",
            "_dom_classes": [],
            "description": "100%",
            "_model_name": "FloatProgressModel",
            "bar_style": "success",
            "max": 6188,
            "_view_module": "@jupyter-widgets/controls",
            "_model_module_version": "1.5.0",
            "value": 6188,
            "_view_count": null,
            "_view_module_version": "1.5.0",
            "orientation": "horizontal",
            "min": 0,
            "description_tooltip": null,
            "_model_module": "@jupyter-widgets/controls",
            "layout": "IPY_MODEL_ea0cfc76fa2f47be807d8b21b555c60d"
          }
        },
        "b3ec128bc8e74d999f221ac1d280a866": {
          "model_module": "@jupyter-widgets/controls",
          "model_name": "HTMLModel",
          "state": {
            "_view_name": "HTMLView",
            "style": "IPY_MODEL_2472af4f447746fba10af963d5873266",
            "_dom_classes": [],
            "description": "",
            "_model_name": "HTMLModel",
            "placeholder": "​",
            "_view_module": "@jupyter-widgets/controls",
            "_model_module_version": "1.5.0",
            "value": " 6188/6188 [00:10&lt;00:00, 576.87it/s]",
            "_view_count": null,
            "_view_module_version": "1.5.0",
            "description_tooltip": null,
            "_model_module": "@jupyter-widgets/controls",
            "layout": "IPY_MODEL_9046792565d544ee92ef31515057a25b"
          }
        },
        "c0ec446e16e44341ab56e25331577ada": {
          "model_module": "@jupyter-widgets/controls",
          "model_name": "ProgressStyleModel",
          "state": {
            "_view_name": "StyleView",
            "_model_name": "ProgressStyleModel",
            "description_width": "initial",
            "_view_module": "@jupyter-widgets/base",
            "_model_module_version": "1.5.0",
            "_view_count": null,
            "_view_module_version": "1.2.0",
            "bar_color": null,
            "_model_module": "@jupyter-widgets/controls"
          }
        },
        "ea0cfc76fa2f47be807d8b21b555c60d": {
          "model_module": "@jupyter-widgets/base",
          "model_name": "LayoutModel",
          "state": {
            "_view_name": "LayoutView",
            "grid_template_rows": null,
            "right": null,
            "justify_content": null,
            "_view_module": "@jupyter-widgets/base",
            "overflow": null,
            "_model_module_version": "1.2.0",
            "_view_count": null,
            "flex_flow": null,
            "width": null,
            "min_width": null,
            "border": null,
            "align_items": null,
            "bottom": null,
            "_model_module": "@jupyter-widgets/base",
            "top": null,
            "grid_column": null,
            "overflow_y": null,
            "overflow_x": null,
            "grid_auto_flow": null,
            "grid_area": null,
            "grid_template_columns": null,
            "flex": null,
            "_model_name": "LayoutModel",
            "justify_items": null,
            "grid_row": null,
            "max_height": null,
            "align_content": null,
            "visibility": null,
            "align_self": null,
            "height": null,
            "min_height": null,
            "padding": null,
            "grid_auto_rows": null,
            "grid_gap": null,
            "max_width": null,
            "order": null,
            "_view_module_version": "1.2.0",
            "grid_template_areas": null,
            "object_position": null,
            "object_fit": null,
            "grid_auto_columns": null,
            "margin": null,
            "display": null,
            "left": null
          }
        },
        "2472af4f447746fba10af963d5873266": {
          "model_module": "@jupyter-widgets/controls",
          "model_name": "DescriptionStyleModel",
          "state": {
            "_view_name": "StyleView",
            "_model_name": "DescriptionStyleModel",
            "description_width": "",
            "_view_module": "@jupyter-widgets/base",
            "_model_module_version": "1.5.0",
            "_view_count": null,
            "_view_module_version": "1.2.0",
            "_model_module": "@jupyter-widgets/controls"
          }
        },
        "9046792565d544ee92ef31515057a25b": {
          "model_module": "@jupyter-widgets/base",
          "model_name": "LayoutModel",
          "state": {
            "_view_name": "LayoutView",
            "grid_template_rows": null,
            "right": null,
            "justify_content": null,
            "_view_module": "@jupyter-widgets/base",
            "overflow": null,
            "_model_module_version": "1.2.0",
            "_view_count": null,
            "flex_flow": null,
            "width": null,
            "min_width": null,
            "border": null,
            "align_items": null,
            "bottom": null,
            "_model_module": "@jupyter-widgets/base",
            "top": null,
            "grid_column": null,
            "overflow_y": null,
            "overflow_x": null,
            "grid_auto_flow": null,
            "grid_area": null,
            "grid_template_columns": null,
            "flex": null,
            "_model_name": "LayoutModel",
            "justify_items": null,
            "grid_row": null,
            "max_height": null,
            "align_content": null,
            "visibility": null,
            "align_self": null,
            "height": null,
            "min_height": null,
            "padding": null,
            "grid_auto_rows": null,
            "grid_gap": null,
            "max_width": null,
            "order": null,
            "_view_module_version": "1.2.0",
            "grid_template_areas": null,
            "object_position": null,
            "object_fit": null,
            "grid_auto_columns": null,
            "margin": null,
            "display": null,
            "left": null
          }
        },
        "d69382b897af42fc85ddda3c8bfe7023": {
          "model_module": "@jupyter-widgets/controls",
          "model_name": "HBoxModel",
          "state": {
            "_view_name": "HBoxView",
            "_dom_classes": [],
            "_model_name": "HBoxModel",
            "_view_module": "@jupyter-widgets/controls",
            "_model_module_version": "1.5.0",
            "_view_count": null,
            "_view_module_version": "1.5.0",
            "box_style": "",
            "layout": "IPY_MODEL_91bb7cf1ede24025a044d6e0b31c8441",
            "_model_module": "@jupyter-widgets/controls",
            "children": [
              "IPY_MODEL_ec4ca15ca9564dec865f39a1f0759217",
              "IPY_MODEL_d524f22c19ac49cd8df9df0734fc52ba"
            ]
          }
        },
        "91bb7cf1ede24025a044d6e0b31c8441": {
          "model_module": "@jupyter-widgets/base",
          "model_name": "LayoutModel",
          "state": {
            "_view_name": "LayoutView",
            "grid_template_rows": null,
            "right": null,
            "justify_content": null,
            "_view_module": "@jupyter-widgets/base",
            "overflow": null,
            "_model_module_version": "1.2.0",
            "_view_count": null,
            "flex_flow": null,
            "width": null,
            "min_width": null,
            "border": null,
            "align_items": null,
            "bottom": null,
            "_model_module": "@jupyter-widgets/base",
            "top": null,
            "grid_column": null,
            "overflow_y": null,
            "overflow_x": null,
            "grid_auto_flow": null,
            "grid_area": null,
            "grid_template_columns": null,
            "flex": null,
            "_model_name": "LayoutModel",
            "justify_items": null,
            "grid_row": null,
            "max_height": null,
            "align_content": null,
            "visibility": null,
            "align_self": null,
            "height": null,
            "min_height": null,
            "padding": null,
            "grid_auto_rows": null,
            "grid_gap": null,
            "max_width": null,
            "order": null,
            "_view_module_version": "1.2.0",
            "grid_template_areas": null,
            "object_position": null,
            "object_fit": null,
            "grid_auto_columns": null,
            "margin": null,
            "display": null,
            "left": null
          }
        },
        "ec4ca15ca9564dec865f39a1f0759217": {
          "model_module": "@jupyter-widgets/controls",
          "model_name": "FloatProgressModel",
          "state": {
            "_view_name": "ProgressView",
            "style": "IPY_MODEL_892939e3c55a4212ac5674c49aa20eae",
            "_dom_classes": [],
            "description": "Running Evaluation: 100%",
            "_model_name": "FloatProgressModel",
            "bar_style": "success",
            "max": 774,
            "_view_module": "@jupyter-widgets/controls",
            "_model_module_version": "1.5.0",
            "value": 774,
            "_view_count": null,
            "_view_module_version": "1.5.0",
            "orientation": "horizontal",
            "min": 0,
            "description_tooltip": null,
            "_model_module": "@jupyter-widgets/controls",
            "layout": "IPY_MODEL_3b3abdbd3cf147b4ab90e16b5fb91273"
          }
        },
        "d524f22c19ac49cd8df9df0734fc52ba": {
          "model_module": "@jupyter-widgets/controls",
          "model_name": "HTMLModel",
          "state": {
            "_view_name": "HTMLView",
            "style": "IPY_MODEL_79b64b5b7db04b868a7e1b01b5372dac",
            "_dom_classes": [],
            "description": "",
            "_model_name": "HTMLModel",
            "placeholder": "​",
            "_view_module": "@jupyter-widgets/controls",
            "_model_module_version": "1.5.0",
            "value": " 774/774 [01:32&lt;00:00,  8.35it/s]",
            "_view_count": null,
            "_view_module_version": "1.5.0",
            "description_tooltip": null,
            "_model_module": "@jupyter-widgets/controls",
            "layout": "IPY_MODEL_f3cbd9b5035a4d35a57b125ad4043f98"
          }
        },
        "892939e3c55a4212ac5674c49aa20eae": {
          "model_module": "@jupyter-widgets/controls",
          "model_name": "ProgressStyleModel",
          "state": {
            "_view_name": "StyleView",
            "_model_name": "ProgressStyleModel",
            "description_width": "initial",
            "_view_module": "@jupyter-widgets/base",
            "_model_module_version": "1.5.0",
            "_view_count": null,
            "_view_module_version": "1.2.0",
            "bar_color": null,
            "_model_module": "@jupyter-widgets/controls"
          }
        },
        "3b3abdbd3cf147b4ab90e16b5fb91273": {
          "model_module": "@jupyter-widgets/base",
          "model_name": "LayoutModel",
          "state": {
            "_view_name": "LayoutView",
            "grid_template_rows": null,
            "right": null,
            "justify_content": null,
            "_view_module": "@jupyter-widgets/base",
            "overflow": null,
            "_model_module_version": "1.2.0",
            "_view_count": null,
            "flex_flow": null,
            "width": null,
            "min_width": null,
            "border": null,
            "align_items": null,
            "bottom": null,
            "_model_module": "@jupyter-widgets/base",
            "top": null,
            "grid_column": null,
            "overflow_y": null,
            "overflow_x": null,
            "grid_auto_flow": null,
            "grid_area": null,
            "grid_template_columns": null,
            "flex": null,
            "_model_name": "LayoutModel",
            "justify_items": null,
            "grid_row": null,
            "max_height": null,
            "align_content": null,
            "visibility": null,
            "align_self": null,
            "height": null,
            "min_height": null,
            "padding": null,
            "grid_auto_rows": null,
            "grid_gap": null,
            "max_width": null,
            "order": null,
            "_view_module_version": "1.2.0",
            "grid_template_areas": null,
            "object_position": null,
            "object_fit": null,
            "grid_auto_columns": null,
            "margin": null,
            "display": null,
            "left": null
          }
        },
        "79b64b5b7db04b868a7e1b01b5372dac": {
          "model_module": "@jupyter-widgets/controls",
          "model_name": "DescriptionStyleModel",
          "state": {
            "_view_name": "StyleView",
            "_model_name": "DescriptionStyleModel",
            "description_width": "",
            "_view_module": "@jupyter-widgets/base",
            "_model_module_version": "1.5.0",
            "_view_count": null,
            "_view_module_version": "1.2.0",
            "_model_module": "@jupyter-widgets/controls"
          }
        },
        "f3cbd9b5035a4d35a57b125ad4043f98": {
          "model_module": "@jupyter-widgets/base",
          "model_name": "LayoutModel",
          "state": {
            "_view_name": "LayoutView",
            "grid_template_rows": null,
            "right": null,
            "justify_content": null,
            "_view_module": "@jupyter-widgets/base",
            "overflow": null,
            "_model_module_version": "1.2.0",
            "_view_count": null,
            "flex_flow": null,
            "width": null,
            "min_width": null,
            "border": null,
            "align_items": null,
            "bottom": null,
            "_model_module": "@jupyter-widgets/base",
            "top": null,
            "grid_column": null,
            "overflow_y": null,
            "overflow_x": null,
            "grid_auto_flow": null,
            "grid_area": null,
            "grid_template_columns": null,
            "flex": null,
            "_model_name": "LayoutModel",
            "justify_items": null,
            "grid_row": null,
            "max_height": null,
            "align_content": null,
            "visibility": null,
            "align_self": null,
            "height": null,
            "min_height": null,
            "padding": null,
            "grid_auto_rows": null,
            "grid_gap": null,
            "max_width": null,
            "order": null,
            "_view_module_version": "1.2.0",
            "grid_template_areas": null,
            "object_position": null,
            "object_fit": null,
            "grid_auto_columns": null,
            "margin": null,
            "display": null,
            "left": null
          }
        },
        "719a3c75139b4a7f9dac5d981d38dccd": {
          "model_module": "@jupyter-widgets/controls",
          "model_name": "HBoxModel",
          "state": {
            "_view_name": "HBoxView",
            "_dom_classes": [],
            "_model_name": "HBoxModel",
            "_view_module": "@jupyter-widgets/controls",
            "_model_module_version": "1.5.0",
            "_view_count": null,
            "_view_module_version": "1.5.0",
            "box_style": "",
            "layout": "IPY_MODEL_1d63ed5920714ebaa3fae7595cba8f58",
            "_model_module": "@jupyter-widgets/controls",
            "children": [
              "IPY_MODEL_78ee0d8262d14f65a1fb67285585f192",
              "IPY_MODEL_a104e4ae79494075a9d4f0311e02cec7"
            ]
          }
        },
        "1d63ed5920714ebaa3fae7595cba8f58": {
          "model_module": "@jupyter-widgets/base",
          "model_name": "LayoutModel",
          "state": {
            "_view_name": "LayoutView",
            "grid_template_rows": null,
            "right": null,
            "justify_content": null,
            "_view_module": "@jupyter-widgets/base",
            "overflow": null,
            "_model_module_version": "1.2.0",
            "_view_count": null,
            "flex_flow": null,
            "width": null,
            "min_width": null,
            "border": null,
            "align_items": null,
            "bottom": null,
            "_model_module": "@jupyter-widgets/base",
            "top": null,
            "grid_column": null,
            "overflow_y": null,
            "overflow_x": null,
            "grid_auto_flow": null,
            "grid_area": null,
            "grid_template_columns": null,
            "flex": null,
            "_model_name": "LayoutModel",
            "justify_items": null,
            "grid_row": null,
            "max_height": null,
            "align_content": null,
            "visibility": null,
            "align_self": null,
            "height": null,
            "min_height": null,
            "padding": null,
            "grid_auto_rows": null,
            "grid_gap": null,
            "max_width": null,
            "order": null,
            "_view_module_version": "1.2.0",
            "grid_template_areas": null,
            "object_position": null,
            "object_fit": null,
            "grid_auto_columns": null,
            "margin": null,
            "display": null,
            "left": null
          }
        },
        "78ee0d8262d14f65a1fb67285585f192": {
          "model_module": "@jupyter-widgets/controls",
          "model_name": "FloatProgressModel",
          "state": {
            "_view_name": "ProgressView",
            "style": "IPY_MODEL_3a2a40cf7748419db63eb7687961ec47",
            "_dom_classes": [],
            "description": "100%",
            "_model_name": "FloatProgressModel",
            "bar_style": "success",
            "max": 1,
            "_view_module": "@jupyter-widgets/controls",
            "_model_module_version": "1.5.0",
            "value": 1,
            "_view_count": null,
            "_view_module_version": "1.5.0",
            "orientation": "horizontal",
            "min": 0,
            "description_tooltip": null,
            "_model_module": "@jupyter-widgets/controls",
            "layout": "IPY_MODEL_6fbcf455b41c480b958ec091709a0602"
          }
        },
        "a104e4ae79494075a9d4f0311e02cec7": {
          "model_module": "@jupyter-widgets/controls",
          "model_name": "HTMLModel",
          "state": {
            "_view_name": "HTMLView",
            "style": "IPY_MODEL_7823d6435ec74c8893ef9813b0d59e91",
            "_dom_classes": [],
            "description": "",
            "_model_name": "HTMLModel",
            "placeholder": "​",
            "_view_module": "@jupyter-widgets/controls",
            "_model_module_version": "1.5.0",
            "value": " 1/1 [00:00&lt;00:00,  3.35it/s]",
            "_view_count": null,
            "_view_module_version": "1.5.0",
            "description_tooltip": null,
            "_model_module": "@jupyter-widgets/controls",
            "layout": "IPY_MODEL_669c02781fc24e1785a53ab14705aacf"
          }
        },
        "3a2a40cf7748419db63eb7687961ec47": {
          "model_module": "@jupyter-widgets/controls",
          "model_name": "ProgressStyleModel",
          "state": {
            "_view_name": "StyleView",
            "_model_name": "ProgressStyleModel",
            "description_width": "initial",
            "_view_module": "@jupyter-widgets/base",
            "_model_module_version": "1.5.0",
            "_view_count": null,
            "_view_module_version": "1.2.0",
            "bar_color": null,
            "_model_module": "@jupyter-widgets/controls"
          }
        },
        "6fbcf455b41c480b958ec091709a0602": {
          "model_module": "@jupyter-widgets/base",
          "model_name": "LayoutModel",
          "state": {
            "_view_name": "LayoutView",
            "grid_template_rows": null,
            "right": null,
            "justify_content": null,
            "_view_module": "@jupyter-widgets/base",
            "overflow": null,
            "_model_module_version": "1.2.0",
            "_view_count": null,
            "flex_flow": null,
            "width": null,
            "min_width": null,
            "border": null,
            "align_items": null,
            "bottom": null,
            "_model_module": "@jupyter-widgets/base",
            "top": null,
            "grid_column": null,
            "overflow_y": null,
            "overflow_x": null,
            "grid_auto_flow": null,
            "grid_area": null,
            "grid_template_columns": null,
            "flex": null,
            "_model_name": "LayoutModel",
            "justify_items": null,
            "grid_row": null,
            "max_height": null,
            "align_content": null,
            "visibility": null,
            "align_self": null,
            "height": null,
            "min_height": null,
            "padding": null,
            "grid_auto_rows": null,
            "grid_gap": null,
            "max_width": null,
            "order": null,
            "_view_module_version": "1.2.0",
            "grid_template_areas": null,
            "object_position": null,
            "object_fit": null,
            "grid_auto_columns": null,
            "margin": null,
            "display": null,
            "left": null
          }
        },
        "7823d6435ec74c8893ef9813b0d59e91": {
          "model_module": "@jupyter-widgets/controls",
          "model_name": "DescriptionStyleModel",
          "state": {
            "_view_name": "StyleView",
            "_model_name": "DescriptionStyleModel",
            "description_width": "",
            "_view_module": "@jupyter-widgets/base",
            "_model_module_version": "1.5.0",
            "_view_count": null,
            "_view_module_version": "1.2.0",
            "_model_module": "@jupyter-widgets/controls"
          }
        },
        "669c02781fc24e1785a53ab14705aacf": {
          "model_module": "@jupyter-widgets/base",
          "model_name": "LayoutModel",
          "state": {
            "_view_name": "LayoutView",
            "grid_template_rows": null,
            "right": null,
            "justify_content": null,
            "_view_module": "@jupyter-widgets/base",
            "overflow": null,
            "_model_module_version": "1.2.0",
            "_view_count": null,
            "flex_flow": null,
            "width": null,
            "min_width": null,
            "border": null,
            "align_items": null,
            "bottom": null,
            "_model_module": "@jupyter-widgets/base",
            "top": null,
            "grid_column": null,
            "overflow_y": null,
            "overflow_x": null,
            "grid_auto_flow": null,
            "grid_area": null,
            "grid_template_columns": null,
            "flex": null,
            "_model_name": "LayoutModel",
            "justify_items": null,
            "grid_row": null,
            "max_height": null,
            "align_content": null,
            "visibility": null,
            "align_self": null,
            "height": null,
            "min_height": null,
            "padding": null,
            "grid_auto_rows": null,
            "grid_gap": null,
            "max_width": null,
            "order": null,
            "_view_module_version": "1.2.0",
            "grid_template_areas": null,
            "object_position": null,
            "object_fit": null,
            "grid_auto_columns": null,
            "margin": null,
            "display": null,
            "left": null
          }
        },
        "8fdb4618005345628bb5f43d22eefcb6": {
          "model_module": "@jupyter-widgets/controls",
          "model_name": "HBoxModel",
          "state": {
            "_view_name": "HBoxView",
            "_dom_classes": [],
            "_model_name": "HBoxModel",
            "_view_module": "@jupyter-widgets/controls",
            "_model_module_version": "1.5.0",
            "_view_count": null,
            "_view_module_version": "1.5.0",
            "box_style": "",
            "layout": "IPY_MODEL_cd4338d073484f218a3e609c3d865cb4",
            "_model_module": "@jupyter-widgets/controls",
            "children": [
              "IPY_MODEL_a09a63c75bfa4fb18462a532ecd838b4",
              "IPY_MODEL_f43d81419aaa4828bfe9aa4027631e49"
            ]
          }
        },
        "cd4338d073484f218a3e609c3d865cb4": {
          "model_module": "@jupyter-widgets/base",
          "model_name": "LayoutModel",
          "state": {
            "_view_name": "LayoutView",
            "grid_template_rows": null,
            "right": null,
            "justify_content": null,
            "_view_module": "@jupyter-widgets/base",
            "overflow": null,
            "_model_module_version": "1.2.0",
            "_view_count": null,
            "flex_flow": null,
            "width": null,
            "min_width": null,
            "border": null,
            "align_items": null,
            "bottom": null,
            "_model_module": "@jupyter-widgets/base",
            "top": null,
            "grid_column": null,
            "overflow_y": null,
            "overflow_x": null,
            "grid_auto_flow": null,
            "grid_area": null,
            "grid_template_columns": null,
            "flex": null,
            "_model_name": "LayoutModel",
            "justify_items": null,
            "grid_row": null,
            "max_height": null,
            "align_content": null,
            "visibility": null,
            "align_self": null,
            "height": null,
            "min_height": null,
            "padding": null,
            "grid_auto_rows": null,
            "grid_gap": null,
            "max_width": null,
            "order": null,
            "_view_module_version": "1.2.0",
            "grid_template_areas": null,
            "object_position": null,
            "object_fit": null,
            "grid_auto_columns": null,
            "margin": null,
            "display": null,
            "left": null
          }
        },
        "a09a63c75bfa4fb18462a532ecd838b4": {
          "model_module": "@jupyter-widgets/controls",
          "model_name": "FloatProgressModel",
          "state": {
            "_view_name": "ProgressView",
            "style": "IPY_MODEL_f48745da96d947748f51812ab84b44d6",
            "_dom_classes": [],
            "description": "100%",
            "_model_name": "FloatProgressModel",
            "bar_style": "success",
            "max": 1,
            "_view_module": "@jupyter-widgets/controls",
            "_model_module_version": "1.5.0",
            "value": 1,
            "_view_count": null,
            "_view_module_version": "1.5.0",
            "orientation": "horizontal",
            "min": 0,
            "description_tooltip": null,
            "_model_module": "@jupyter-widgets/controls",
            "layout": "IPY_MODEL_da5a4379bd074fcdae334c842d33d5f7"
          }
        },
        "f43d81419aaa4828bfe9aa4027631e49": {
          "model_module": "@jupyter-widgets/controls",
          "model_name": "HTMLModel",
          "state": {
            "_view_name": "HTMLView",
            "style": "IPY_MODEL_3246e355537843b68b7b2dcd9f8b7c96",
            "_dom_classes": [],
            "description": "",
            "_model_name": "HTMLModel",
            "placeholder": "​",
            "_view_module": "@jupyter-widgets/controls",
            "_model_module_version": "1.5.0",
            "value": " 1/1 [00:00&lt;00:00, 13.41it/s]",
            "_view_count": null,
            "_view_module_version": "1.5.0",
            "description_tooltip": null,
            "_model_module": "@jupyter-widgets/controls",
            "layout": "IPY_MODEL_0dfb9d387d684d80b2269c4394f7055e"
          }
        },
        "f48745da96d947748f51812ab84b44d6": {
          "model_module": "@jupyter-widgets/controls",
          "model_name": "ProgressStyleModel",
          "state": {
            "_view_name": "StyleView",
            "_model_name": "ProgressStyleModel",
            "description_width": "initial",
            "_view_module": "@jupyter-widgets/base",
            "_model_module_version": "1.5.0",
            "_view_count": null,
            "_view_module_version": "1.2.0",
            "bar_color": null,
            "_model_module": "@jupyter-widgets/controls"
          }
        },
        "da5a4379bd074fcdae334c842d33d5f7": {
          "model_module": "@jupyter-widgets/base",
          "model_name": "LayoutModel",
          "state": {
            "_view_name": "LayoutView",
            "grid_template_rows": null,
            "right": null,
            "justify_content": null,
            "_view_module": "@jupyter-widgets/base",
            "overflow": null,
            "_model_module_version": "1.2.0",
            "_view_count": null,
            "flex_flow": null,
            "width": null,
            "min_width": null,
            "border": null,
            "align_items": null,
            "bottom": null,
            "_model_module": "@jupyter-widgets/base",
            "top": null,
            "grid_column": null,
            "overflow_y": null,
            "overflow_x": null,
            "grid_auto_flow": null,
            "grid_area": null,
            "grid_template_columns": null,
            "flex": null,
            "_model_name": "LayoutModel",
            "justify_items": null,
            "grid_row": null,
            "max_height": null,
            "align_content": null,
            "visibility": null,
            "align_self": null,
            "height": null,
            "min_height": null,
            "padding": null,
            "grid_auto_rows": null,
            "grid_gap": null,
            "max_width": null,
            "order": null,
            "_view_module_version": "1.2.0",
            "grid_template_areas": null,
            "object_position": null,
            "object_fit": null,
            "grid_auto_columns": null,
            "margin": null,
            "display": null,
            "left": null
          }
        },
        "3246e355537843b68b7b2dcd9f8b7c96": {
          "model_module": "@jupyter-widgets/controls",
          "model_name": "DescriptionStyleModel",
          "state": {
            "_view_name": "StyleView",
            "_model_name": "DescriptionStyleModel",
            "description_width": "",
            "_view_module": "@jupyter-widgets/base",
            "_model_module_version": "1.5.0",
            "_view_count": null,
            "_view_module_version": "1.2.0",
            "_model_module": "@jupyter-widgets/controls"
          }
        },
        "0dfb9d387d684d80b2269c4394f7055e": {
          "model_module": "@jupyter-widgets/base",
          "model_name": "LayoutModel",
          "state": {
            "_view_name": "LayoutView",
            "grid_template_rows": null,
            "right": null,
            "justify_content": null,
            "_view_module": "@jupyter-widgets/base",
            "overflow": null,
            "_model_module_version": "1.2.0",
            "_view_count": null,
            "flex_flow": null,
            "width": null,
            "min_width": null,
            "border": null,
            "align_items": null,
            "bottom": null,
            "_model_module": "@jupyter-widgets/base",
            "top": null,
            "grid_column": null,
            "overflow_y": null,
            "overflow_x": null,
            "grid_auto_flow": null,
            "grid_area": null,
            "grid_template_columns": null,
            "flex": null,
            "_model_name": "LayoutModel",
            "justify_items": null,
            "grid_row": null,
            "max_height": null,
            "align_content": null,
            "visibility": null,
            "align_self": null,
            "height": null,
            "min_height": null,
            "padding": null,
            "grid_auto_rows": null,
            "grid_gap": null,
            "max_width": null,
            "order": null,
            "_view_module_version": "1.2.0",
            "grid_template_areas": null,
            "object_position": null,
            "object_fit": null,
            "grid_auto_columns": null,
            "margin": null,
            "display": null,
            "left": null
          }
        }
      }
    }
  },
  "cells": [
    {
      "cell_type": "markdown",
      "metadata": {
        "id": "mDhJKKf7YbzI",
        "colab_type": "text"
      },
      "source": [
        "###Install dependencies"
      ]
    },
    {
      "cell_type": "markdown",
      "metadata": {
        "id": "2QEj7qSAyCcI",
        "colab_type": "text"
      },
      "source": [
        "Make sure to select GPU-runtime (Change runtime type)"
      ]
    },
    {
      "cell_type": "code",
      "metadata": {
        "id": "1AXfkuS1-EFN",
        "colab_type": "code",
        "colab": {}
      },
      "source": [
        "!pip install simpletransformers tqdm==4.46.1 wandb"
      ],
      "execution_count": null,
      "outputs": []
    },
    {
      "cell_type": "code",
      "metadata": {
        "id": "aiVYDPvgBKzo",
        "colab_type": "code",
        "colab": {
          "base_uri": "https://localhost:8080/",
          "height": 34
        },
        "outputId": "78ea451f-ad09-4cd5-873b-f7fe12ff39cf"
      },
      "source": [
        "%%writefile setup.sh\n",
        "git clone https://github.com/NVIDIA/apex\n",
        "pip install -v --no-cache-dir --global-option=\"--cpp_ext\" --global-option=\"--cuda_ext\" ./apex"
      ],
      "execution_count": 96,
      "outputs": [
        {
          "output_type": "stream",
          "text": [
            "Overwriting setup.sh\n"
          ],
          "name": "stdout"
        }
      ]
    },
    {
      "cell_type": "code",
      "metadata": {
        "id": "7DCco3sWBP2g",
        "colab_type": "code",
        "colab": {}
      },
      "source": [
        "!sh setup.sh # this takes a while"
      ],
      "execution_count": null,
      "outputs": []
    },
    {
      "cell_type": "markdown",
      "metadata": {
        "id": "XTA1mZJcx5dD",
        "colab_type": "text"
      },
      "source": [
        "Restart Runtime onece above is installed, and continue with cells below"
      ]
    },
    {
      "cell_type": "markdown",
      "metadata": {
        "id": "Nuyr1vD9ZiG5",
        "colab_type": "text"
      },
      "source": [
        "###Upload dataset"
      ]
    },
    {
      "cell_type": "code",
      "metadata": {
        "id": "elPnutUN7dLL",
        "colab_type": "code",
        "colab": {}
      },
      "source": [
        "# Allow Google Cloud SDK to access the dataset.pkl file in your google drive\n",
        "!pip install -U -q PyDrive\n",
        "from pydrive.auth import GoogleAuth\n",
        "from pydrive.drive import GoogleDrive\n",
        "from google.colab import auth\n",
        "from oauth2client.client import GoogleCredentials\n",
        "# Authenticate and create the PyDrive client.\n",
        "auth.authenticate_user()\n",
        "gauth = GoogleAuth()\n",
        "gauth.credentials = GoogleCredentials.get_application_default()\n",
        "drive = GoogleDrive(gauth)"
      ],
      "execution_count": 1,
      "outputs": []
    },
    {
      "cell_type": "code",
      "metadata": {
        "id": "N5A5nHBB9KjK",
        "colab_type": "code",
        "colab": {}
      },
      "source": [
        "# Get your link by right clicking on file dataset.pkl in google dirive and selecting copy shareable link\n",
        "# Should be on the form https://drive.google.com/file/d/1L_6xCAF_ozZockbw_Xe7h1ocr_CkILyI/view?usp=sharing\n",
        "# Copy the id part and paste as id below\n",
        "id='1L_6xCAF_ozZockbw_Xe7h1ocr_CkILyI'\n",
        "downloaded = drive.CreateFile({'id':id})\n",
        "!mkdir -p dataset\n",
        "downloaded.GetContentFile('dataset/dataset.pkl') "
      ],
      "execution_count": 2,
      "outputs": []
    },
    {
      "cell_type": "markdown",
      "metadata": {
        "id": "DApel2T-Znbo",
        "colab_type": "text"
      },
      "source": [
        "### Preprocess dataset"
      ]
    },
    {
      "cell_type": "code",
      "metadata": {
        "id": "ccdHoRf-7E9t",
        "colab_type": "code",
        "colab": {}
      },
      "source": [
        "import pandas as pd\n",
        "df = pd.read_pickle('dataset/dataset.pkl')"
      ],
      "execution_count": 3,
      "outputs": []
    },
    {
      "cell_type": "code",
      "metadata": {
        "id": "21oQ7cYP7E9x",
        "colab_type": "code",
        "colab": {
          "base_uri": "https://localhost:8080/",
          "height": 470
        },
        "outputId": "082aea29-524c-413a-d3c2-b3e85992d1a7"
      },
      "source": [
        "df"
      ],
      "execution_count": 4,
      "outputs": [
        {
          "output_type": "execute_result",
          "data": {
            "text/html": [
              "<div>\n",
              "<style scoped>\n",
              "    .dataframe tbody tr th:only-of-type {\n",
              "        vertical-align: middle;\n",
              "    }\n",
              "\n",
              "    .dataframe tbody tr th {\n",
              "        vertical-align: top;\n",
              "    }\n",
              "\n",
              "    .dataframe thead th {\n",
              "        text-align: right;\n",
              "    }\n",
              "</style>\n",
              "<table border=\"1\" class=\"dataframe\">\n",
              "  <thead>\n",
              "    <tr style=\"text-align: right;\">\n",
              "      <th></th>\n",
              "      <th>body</th>\n",
              "      <th>lewissplit</th>\n",
              "      <th>title</th>\n",
              "      <th>topics</th>\n",
              "    </tr>\n",
              "  </thead>\n",
              "  <tbody>\n",
              "    <tr>\n",
              "      <th>0</th>\n",
              "      <td>Inco Ltd said it did not expect its earlier re...</td>\n",
              "      <td>TRAIN</td>\n",
              "      <td>INCO SEES NO MAJOR IMPACT FROM DOW REMOVAL</td>\n",
              "      <td>[]</td>\n",
              "    </tr>\n",
              "    <tr>\n",
              "      <th>1</th>\n",
              "      <td>Mason Benson, former president and chief opera...</td>\n",
              "      <td>TRAIN</td>\n",
              "      <td>FORMER EMPIRE OF CAROLINA &lt;EMP&gt; EXEC SENTENCED</td>\n",
              "      <td>[]</td>\n",
              "    </tr>\n",
              "    <tr>\n",
              "      <th>2</th>\n",
              "      <td>In a discovery that could complicate the searc...</td>\n",
              "      <td>TRAIN</td>\n",
              "      <td>DOCTORS FIND LINK BETWEEN AIDS, SMALLPOX VIRUS</td>\n",
              "      <td>[]</td>\n",
              "    </tr>\n",
              "    <tr>\n",
              "      <th>3</th>\n",
              "      <td>Doctors at the Centers for Disease Control in ...</td>\n",
              "      <td>TRAIN</td>\n",
              "      <td>BIRTH CONTROL PILLS HELP PREVENT CANCER - STUDY</td>\n",
              "      <td>[]</td>\n",
              "    </tr>\n",
              "    <tr>\n",
              "      <th>4</th>\n",
              "      <td>U.S. economic data this week could be the key ...</td>\n",
              "      <td>TRAIN</td>\n",
              "      <td>U.S. ECONOMIC DATA KEY TO DEBT FUTURES OUTLOOK</td>\n",
              "      <td>[interest, retail, ipi]</td>\n",
              "    </tr>\n",
              "    <tr>\n",
              "      <th>...</th>\n",
              "      <td>...</td>\n",
              "      <td>...</td>\n",
              "      <td>...</td>\n",
              "      <td>...</td>\n",
              "    </tr>\n",
              "    <tr>\n",
              "      <th>21573</th>\n",
              "      <td>The Japan/India-Pakistan-Gulf/Japan shipping c...</td>\n",
              "      <td>TEST</td>\n",
              "      <td>JAPAN/INDIA CONFERENCE CUTS GULF WAR RISK CHARGES</td>\n",
              "      <td>[ship]</td>\n",
              "    </tr>\n",
              "    <tr>\n",
              "      <th>21574</th>\n",
              "      <td>The Soviet Union's industrial output is growin...</td>\n",
              "      <td>TEST</td>\n",
              "      <td>SOVIET INDUSTRIAL GROWTH/TRADE SLOWER IN 1987</td>\n",
              "      <td>[ipi]</td>\n",
              "    </tr>\n",
              "    <tr>\n",
              "      <th>21575</th>\n",
              "      <td>Six black miners have been killed and two inju...</td>\n",
              "      <td>TEST</td>\n",
              "      <td>SIX KILLED IN SOUTH AFRICAN GOLD MINE ACCIDENT</td>\n",
              "      <td>[gold]</td>\n",
              "    </tr>\n",
              "    <tr>\n",
              "      <th>21576</th>\n",
              "      <td>The prospect of a dominant alliance of sociali...</td>\n",
              "      <td>TEST</td>\n",
              "      <td>PROJECTIONS SHOW SWISS VOTERS WANT TRIED PARTIES</td>\n",
              "      <td>[]</td>\n",
              "    </tr>\n",
              "    <tr>\n",
              "      <th>21577</th>\n",
              "      <td>The American Stock Exchange said it has introd...</td>\n",
              "      <td>TEST</td>\n",
              "      <td>AMERICAN EXCHANGE INTRODUCES INSTITUTIONAL INDEX</td>\n",
              "      <td>[]</td>\n",
              "    </tr>\n",
              "  </tbody>\n",
              "</table>\n",
              "<p>21578 rows × 4 columns</p>\n",
              "</div>"
            ],
            "text/plain": [
              "                                                    body  ...                   topics\n",
              "0      Inco Ltd said it did not expect its earlier re...  ...                       []\n",
              "1      Mason Benson, former president and chief opera...  ...                       []\n",
              "2      In a discovery that could complicate the searc...  ...                       []\n",
              "3      Doctors at the Centers for Disease Control in ...  ...                       []\n",
              "4      U.S. economic data this week could be the key ...  ...  [interest, retail, ipi]\n",
              "...                                                  ...  ...                      ...\n",
              "21573  The Japan/India-Pakistan-Gulf/Japan shipping c...  ...                   [ship]\n",
              "21574  The Soviet Union's industrial output is growin...  ...                    [ipi]\n",
              "21575  Six black miners have been killed and two inju...  ...                   [gold]\n",
              "21576  The prospect of a dominant alliance of sociali...  ...                       []\n",
              "21577  The American Stock Exchange said it has introd...  ...                       []\n",
              "\n",
              "[21578 rows x 4 columns]"
            ]
          },
          "metadata": {
            "tags": []
          },
          "execution_count": 4
        }
      ]
    },
    {
      "cell_type": "code",
      "metadata": {
        "id": "fffWjK-i7E91",
        "colab_type": "code",
        "colab": {
          "base_uri": "https://localhost:8080/",
          "height": 419
        },
        "outputId": "3a91df72-acce-4959-ac92-28d5592eb1b2"
      },
      "source": [
        "df[df.topics.apply(lambda x: len(x)) == 0]"
      ],
      "execution_count": 5,
      "outputs": [
        {
          "output_type": "execute_result",
          "data": {
            "text/html": [
              "<div>\n",
              "<style scoped>\n",
              "    .dataframe tbody tr th:only-of-type {\n",
              "        vertical-align: middle;\n",
              "    }\n",
              "\n",
              "    .dataframe tbody tr th {\n",
              "        vertical-align: top;\n",
              "    }\n",
              "\n",
              "    .dataframe thead th {\n",
              "        text-align: right;\n",
              "    }\n",
              "</style>\n",
              "<table border=\"1\" class=\"dataframe\">\n",
              "  <thead>\n",
              "    <tr style=\"text-align: right;\">\n",
              "      <th></th>\n",
              "      <th>body</th>\n",
              "      <th>lewissplit</th>\n",
              "      <th>title</th>\n",
              "      <th>topics</th>\n",
              "    </tr>\n",
              "  </thead>\n",
              "  <tbody>\n",
              "    <tr>\n",
              "      <th>0</th>\n",
              "      <td>Inco Ltd said it did not expect its earlier re...</td>\n",
              "      <td>TRAIN</td>\n",
              "      <td>INCO SEES NO MAJOR IMPACT FROM DOW REMOVAL</td>\n",
              "      <td>[]</td>\n",
              "    </tr>\n",
              "    <tr>\n",
              "      <th>1</th>\n",
              "      <td>Mason Benson, former president and chief opera...</td>\n",
              "      <td>TRAIN</td>\n",
              "      <td>FORMER EMPIRE OF CAROLINA &lt;EMP&gt; EXEC SENTENCED</td>\n",
              "      <td>[]</td>\n",
              "    </tr>\n",
              "    <tr>\n",
              "      <th>2</th>\n",
              "      <td>In a discovery that could complicate the searc...</td>\n",
              "      <td>TRAIN</td>\n",
              "      <td>DOCTORS FIND LINK BETWEEN AIDS, SMALLPOX VIRUS</td>\n",
              "      <td>[]</td>\n",
              "    </tr>\n",
              "    <tr>\n",
              "      <th>3</th>\n",
              "      <td>Doctors at the Centers for Disease Control in ...</td>\n",
              "      <td>TRAIN</td>\n",
              "      <td>BIRTH CONTROL PILLS HELP PREVENT CANCER - STUDY</td>\n",
              "      <td>[]</td>\n",
              "    </tr>\n",
              "    <tr>\n",
              "      <th>5</th>\n",
              "      <td>The Reagan administration, responding to last ...</td>\n",
              "      <td>TRAIN</td>\n",
              "      <td>U.S. \"ACTION PROGRAM\" FOR SUB-SAHARAN AFRICA</td>\n",
              "      <td>[]</td>\n",
              "    </tr>\n",
              "    <tr>\n",
              "      <th>...</th>\n",
              "      <td>...</td>\n",
              "      <td>...</td>\n",
              "      <td>...</td>\n",
              "      <td>...</td>\n",
              "    </tr>\n",
              "    <tr>\n",
              "      <th>21565</th>\n",
              "      <td>The Ministry of Finance has started to conside...</td>\n",
              "      <td>TEST</td>\n",
              "      <td>JAPAN STARTS CONSIDERING NOVEMBER BOND COUPON</td>\n",
              "      <td>[]</td>\n",
              "    </tr>\n",
              "    <tr>\n",
              "      <th>21568</th>\n",
              "      <td>Orders for non-fuel imports placed in August r...</td>\n",
              "      <td>TEST</td>\n",
              "      <td>NEW ZEALAND NON-FUEL IMPORT ORDERS RISE IN AUGUST</td>\n",
              "      <td>[]</td>\n",
              "    </tr>\n",
              "    <tr>\n",
              "      <th>21571</th>\n",
              "      <td>An announcement by Alliant Computer Systems In...</td>\n",
              "      <td>TEST</td>\n",
              "      <td>COMPETITION TOUGHENS FOR NEAR-SUPERCOMPUTERS</td>\n",
              "      <td>[]</td>\n",
              "    </tr>\n",
              "    <tr>\n",
              "      <th>21576</th>\n",
              "      <td>The prospect of a dominant alliance of sociali...</td>\n",
              "      <td>TEST</td>\n",
              "      <td>PROJECTIONS SHOW SWISS VOTERS WANT TRIED PARTIES</td>\n",
              "      <td>[]</td>\n",
              "    </tr>\n",
              "    <tr>\n",
              "      <th>21577</th>\n",
              "      <td>The American Stock Exchange said it has introd...</td>\n",
              "      <td>TEST</td>\n",
              "      <td>AMERICAN EXCHANGE INTRODUCES INSTITUTIONAL INDEX</td>\n",
              "      <td>[]</td>\n",
              "    </tr>\n",
              "  </tbody>\n",
              "</table>\n",
              "<p>10211 rows × 4 columns</p>\n",
              "</div>"
            ],
            "text/plain": [
              "                                                    body  ... topics\n",
              "0      Inco Ltd said it did not expect its earlier re...  ...     []\n",
              "1      Mason Benson, former president and chief opera...  ...     []\n",
              "2      In a discovery that could complicate the searc...  ...     []\n",
              "3      Doctors at the Centers for Disease Control in ...  ...     []\n",
              "5      The Reagan administration, responding to last ...  ...     []\n",
              "...                                                  ...  ...    ...\n",
              "21565  The Ministry of Finance has started to conside...  ...     []\n",
              "21568  Orders for non-fuel imports placed in August r...  ...     []\n",
              "21571  An announcement by Alliant Computer Systems In...  ...     []\n",
              "21576  The prospect of a dominant alliance of sociali...  ...     []\n",
              "21577  The American Stock Exchange said it has introd...  ...     []\n",
              "\n",
              "[10211 rows x 4 columns]"
            ]
          },
          "metadata": {
            "tags": []
          },
          "execution_count": 5
        }
      ]
    },
    {
      "cell_type": "code",
      "metadata": {
        "id": "H3HiMSgQ0Ols",
        "colab_type": "code",
        "colab": {
          "base_uri": "https://localhost:8080/",
          "height": 34
        },
        "outputId": "28dfa9f5-0465-453a-9963-92d2f138c895"
      },
      "source": [
        "num_nonempty_docs = len(df) - len(df[df.topics.apply(lambda x: len(x)) == 0])\n",
        "print('num_nonempty_docs:', num_nonempty_docs)"
      ],
      "execution_count": 6,
      "outputs": [
        {
          "output_type": "stream",
          "text": [
            "num_nonempty_docs: 11367\n"
          ],
          "name": "stdout"
        }
      ]
    },
    {
      "cell_type": "markdown",
      "metadata": {
        "id": "7rx8nExizbcG",
        "colab_type": "text"
      },
      "source": [
        "Quite many documents without any tags"
      ]
    },
    {
      "cell_type": "code",
      "metadata": {
        "id": "-EZk8wMlzw55",
        "colab_type": "code",
        "colab": {}
      },
      "source": [
        "# Merge title and text\n",
        "df['text'] = df.title + '\\n' + df.body"
      ],
      "execution_count": 7,
      "outputs": []
    },
    {
      "cell_type": "code",
      "metadata": {
        "id": "4ZMr85ex7E93",
        "colab_type": "code",
        "colab": {
          "base_uri": "https://localhost:8080/",
          "height": 486
        },
        "outputId": "2a83b61c-f905-48ef-c2a9-54010ec99424"
      },
      "source": [
        "# Plot histogram of string length\n",
        "import matplotlib.pyplot as plt\n",
        "print(max(df.text.apply(lambda x: len(x))))\n",
        "plt.hist(df.text.str.len(), bins=25)"
      ],
      "execution_count": 8,
      "outputs": [
        {
          "output_type": "stream",
          "text": [
            "9912\n"
          ],
          "name": "stdout"
        },
        {
          "output_type": "execute_result",
          "data": {
            "text/plain": [
              "(array([7.780e+03, 7.491e+03, 2.466e+03, 1.339e+03, 8.790e+02, 4.620e+02,\n",
              "        3.170e+02, 2.500e+02, 1.740e+02, 1.260e+02, 1.190e+02, 8.600e+01,\n",
              "        5.400e+01, 2.200e+01, 6.000e+00, 3.000e+00, 1.000e+00, 0.000e+00,\n",
              "        0.000e+00, 0.000e+00, 0.000e+00, 2.000e+00, 0.000e+00, 0.000e+00,\n",
              "        1.000e+00]),\n",
              " array([1.00000e+00, 3.97440e+02, 7.93880e+02, 1.19032e+03, 1.58676e+03,\n",
              "        1.98320e+03, 2.37964e+03, 2.77608e+03, 3.17252e+03, 3.56896e+03,\n",
              "        3.96540e+03, 4.36184e+03, 4.75828e+03, 5.15472e+03, 5.55116e+03,\n",
              "        5.94760e+03, 6.34404e+03, 6.74048e+03, 7.13692e+03, 7.53336e+03,\n",
              "        7.92980e+03, 8.32624e+03, 8.72268e+03, 9.11912e+03, 9.51556e+03,\n",
              "        9.91200e+03]),\n",
              " <a list of 25 Patch objects>)"
            ]
          },
          "metadata": {
            "tags": []
          },
          "execution_count": 8
        },
        {
          "output_type": "display_data",
          "data": {
            "image/png": "[encoded data removed]",
            "text/plain": [
              "<Figure size 432x288 with 1 Axes>"
            ]
          },
          "metadata": {
            "tags": [],
            "needs_background": "light"
          }
        }
      ]
    },
    {
      "cell_type": "code",
      "metadata": {
        "id": "Sd3ZBnxu7E96",
        "colab_type": "code",
        "colab": {
          "base_uri": "https://localhost:8080/",
          "height": 282
        },
        "outputId": "ab2e4452-34c1-4cbd-fceb-07200f5d69da"
      },
      "source": [
        "plt.hist(df.text.str.count(' '), bins=25) # approximate word count\n",
        "plt.plot()"
      ],
      "execution_count": 9,
      "outputs": [
        {
          "output_type": "execute_result",
          "data": {
            "text/plain": [
              "[]"
            ]
          },
          "metadata": {
            "tags": []
          },
          "execution_count": 9
        },
        {
          "output_type": "display_data",
          "data": {
            "image/png": "[encoded data removed]",
            "text/plain": [
              "<Figure size 432x288 with 1 Axes>"
            ]
          },
          "metadata": {
            "tags": [],
            "needs_background": "light"
          }
        }
      ]
    },
    {
      "cell_type": "code",
      "metadata": {
        "id": "y9a5ZE-07E9-",
        "colab_type": "code",
        "colab": {}
      },
      "source": [
        "import numpy as np\n",
        "from functools import reduce"
      ],
      "execution_count": 10,
      "outputs": []
    },
    {
      "cell_type": "code",
      "metadata": {
        "id": "p_zSnN0j7E-B",
        "colab_type": "code",
        "colab": {
          "base_uri": "https://localhost:8080/",
          "height": 34
        },
        "outputId": "0d1af475-6345-4a3d-a923-5886e2b3f73a"
      },
      "source": [
        "topic_labels, topic_label_counts = np.unique(reduce(lambda l1, l2: l1 + l2, df['topics'].tolist()), return_counts=True)\n",
        "print('num topics:', len(topic_labels))"
      ],
      "execution_count": 11,
      "outputs": [
        {
          "output_type": "stream",
          "text": [
            "num topics: 120\n"
          ],
          "name": "stdout"
        }
      ]
    },
    {
      "cell_type": "code",
      "metadata": {
        "id": "D6bXp96f7E-D",
        "colab_type": "code",
        "colab": {
          "base_uri": "https://localhost:8080/",
          "height": 1000
        },
        "outputId": "21e2a1ea-cffd-479c-f8a9-bc47ce488306"
      },
      "source": [
        "sort_idx = np.argsort(-topic_label_counts)\n",
        "topic_label_counts = topic_label_counts[sort_idx]\n",
        "topic_labels = topic_labels[sort_idx]\n",
        "{l:c for c, l in zip(topic_label_counts, topic_labels)}"
      ],
      "execution_count": 12,
      "outputs": [
        {
          "output_type": "execute_result",
          "data": {
            "text/plain": [
              "{'acq': 2448,\n",
              " 'alum': 63,\n",
              " 'austdlr': 4,\n",
              " 'barley': 54,\n",
              " 'bfr': 1,\n",
              " 'bop': 116,\n",
              " 'can': 3,\n",
              " 'carcass': 75,\n",
              " 'castor-oil': 2,\n",
              " 'castorseed': 1,\n",
              " 'citruspulp': 1,\n",
              " 'cocoa': 76,\n",
              " 'coconut': 6,\n",
              " 'coconut-oil': 7,\n",
              " 'coffee': 145,\n",
              " 'copper': 78,\n",
              " 'copra-cake': 3,\n",
              " 'corn': 254,\n",
              " 'corn-oil': 1,\n",
              " 'cornglutenfeed': 2,\n",
              " 'cotton': 63,\n",
              " 'cotton-oil': 3,\n",
              " 'cottonseed': 1,\n",
              " 'cpi': 112,\n",
              " 'cpu': 4,\n",
              " 'crude': 634,\n",
              " 'cruzado': 1,\n",
              " 'dfl': 3,\n",
              " 'dkr': 1,\n",
              " 'dlr': 217,\n",
              " 'dmk': 15,\n",
              " 'earn': 3987,\n",
              " 'f-cattle': 3,\n",
              " 'fishmeal': 2,\n",
              " 'fuel': 28,\n",
              " 'gas': 65,\n",
              " 'gnp': 163,\n",
              " 'gold': 135,\n",
              " 'grain': 628,\n",
              " 'groundnut': 10,\n",
              " 'groundnut-oil': 2,\n",
              " 'heat': 25,\n",
              " 'hk': 1,\n",
              " 'hog': 27,\n",
              " 'housing': 21,\n",
              " 'income': 18,\n",
              " 'instal-debt': 7,\n",
              " 'interest': 513,\n",
              " 'inventories': 7,\n",
              " 'ipi': 65,\n",
              " 'iron-steel': 67,\n",
              " 'jet': 8,\n",
              " 'jobs': 76,\n",
              " 'l-cattle': 9,\n",
              " 'lead': 35,\n",
              " 'lei': 17,\n",
              " 'lin-meal': 1,\n",
              " 'lin-oil': 2,\n",
              " 'linseed': 2,\n",
              " 'lit': 3,\n",
              " 'livestock': 114,\n",
              " 'lumber': 17,\n",
              " 'meal-feed': 51,\n",
              " 'money-fx': 801,\n",
              " 'money-supply': 190,\n",
              " 'naphtha': 7,\n",
              " 'nat-gas': 130,\n",
              " 'nickel': 11,\n",
              " 'nkr': 3,\n",
              " 'nzdlr': 4,\n",
              " 'oat': 14,\n",
              " 'oilseed': 192,\n",
              " 'orange': 29,\n",
              " 'palladium': 3,\n",
              " 'palm-oil': 43,\n",
              " 'palmkernel': 3,\n",
              " 'peseta': 1,\n",
              " 'pet-chem': 41,\n",
              " 'platinum': 12,\n",
              " 'plywood': 4,\n",
              " 'pork-belly': 4,\n",
              " 'potato': 6,\n",
              " 'propane': 6,\n",
              " 'rand': 3,\n",
              " 'rape-meal': 1,\n",
              " 'rape-oil': 8,\n",
              " 'rapeseed': 35,\n",
              " 'red-bean': 1,\n",
              " 'reserves': 84,\n",
              " 'retail': 27,\n",
              " 'rice': 67,\n",
              " 'ringgit': 1,\n",
              " 'rubber': 51,\n",
              " 'rupiah': 1,\n",
              " 'rye': 2,\n",
              " 'saudriyal': 3,\n",
              " 'sfr': 3,\n",
              " 'ship': 305,\n",
              " 'silver': 37,\n",
              " 'skr': 1,\n",
              " 'sorghum': 35,\n",
              " 'soy-meal': 27,\n",
              " 'soy-oil': 25,\n",
              " 'soybean': 120,\n",
              " 'stg': 21,\n",
              " 'strategic-metal': 32,\n",
              " 'sugar': 184,\n",
              " 'sun-meal': 2,\n",
              " 'sun-oil': 8,\n",
              " 'sunseed': 17,\n",
              " 'tapioca': 4,\n",
              " 'tea': 15,\n",
              " 'tin': 33,\n",
              " 'trade': 552,\n",
              " 'veg-oil': 137,\n",
              " 'wheat': 306,\n",
              " 'wool': 2,\n",
              " 'wpi': 32,\n",
              " 'yen': 69,\n",
              " 'zinc': 44}"
            ]
          },
          "metadata": {
            "tags": []
          },
          "execution_count": 12
        }
      ]
    },
    {
      "cell_type": "code",
      "metadata": {
        "id": "c5e8Z-XU7E-F",
        "colab_type": "code",
        "colab": {
          "base_uri": "https://localhost:8080/",
          "height": 170
        },
        "outputId": "746e6306-99ce-47d4-8ea7-6ef8a23bba68"
      },
      "source": [
        "keep_topics = topic_labels[topic_label_counts > 10]\n",
        "print(len(keep_topics), keep_topics)"
      ],
      "execution_count": 13,
      "outputs": [
        {
          "output_type": "stream",
          "text": [
            "66 ['earn' 'acq' 'money-fx' 'crude' 'grain' 'trade' 'interest' 'wheat' 'ship'\n",
            " 'corn' 'dlr' 'oilseed' 'money-supply' 'sugar' 'gnp' 'coffee' 'veg-oil'\n",
            " 'gold' 'nat-gas' 'soybean' 'bop' 'livestock' 'cpi' 'reserves' 'copper'\n",
            " 'cocoa' 'jobs' 'carcass' 'yen' 'iron-steel' 'rice' 'ipi' 'gas' 'alum'\n",
            " 'cotton' 'barley' 'rubber' 'meal-feed' 'zinc' 'palm-oil' 'pet-chem'\n",
            " 'silver' 'rapeseed' 'sorghum' 'lead' 'tin' 'wpi' 'strategic-metal'\n",
            " 'orange' 'fuel' 'hog' 'retail' 'soy-meal' 'heat' 'soy-oil' 'stg'\n",
            " 'housing' 'income' 'sunseed' 'lumber' 'lei' 'dmk' 'tea' 'oat' 'platinum'\n",
            " 'nickel']\n"
          ],
          "name": "stdout"
        }
      ]
    },
    {
      "cell_type": "code",
      "metadata": {
        "id": "NX57NyRW7E-I",
        "colab_type": "code",
        "colab": {
          "base_uri": "https://localhost:8080/",
          "height": 34
        },
        "outputId": "831770df-61eb-48de-d08d-25f011bd6611"
      },
      "source": [
        "from sklearn.preprocessing import MultiLabelBinarizer\n",
        "\n",
        "# binary encode the tags\n",
        "lb = MultiLabelBinarizer().fit([[l] for l in keep_topics])\n",
        "label_names = lb.classes_\n",
        "Y = lb.transform(\n",
        "    [[l for l in v if l in keep_topics]\n",
        "     for v in df.topics.values])\n",
        "\n",
        "print('num_nonempty_docs with keep_topics:', (Y.sum(axis=1) > 0).sum())\n"
      ],
      "execution_count": 14,
      "outputs": [
        {
          "output_type": "stream",
          "text": [
            "num_nonempty_docs with keep_topics: 11335\n"
          ],
          "name": "stdout"
        }
      ]
    },
    {
      "cell_type": "code",
      "metadata": {
        "id": "3JlAK30t7E-J",
        "colab_type": "code",
        "colab": {}
      },
      "source": [
        "df['labels'] = [ls.tolist() for ls in Y]"
      ],
      "execution_count": 15,
      "outputs": []
    },
    {
      "cell_type": "code",
      "metadata": {
        "id": "AugKYyiA7E-P",
        "colab_type": "code",
        "colab": {
          "base_uri": "https://localhost:8080/",
          "height": 51
        },
        "outputId": "0d8c1ca6-3426-47f2-b145-ffe84b8502ad"
      },
      "source": [
        "i_train = np.array(df.lewissplit == 'TRAIN')\n",
        "i_test = np.array(df.lewissplit == 'TEST')\n",
        "\n",
        "df_train = df[i_train]\n",
        "df_test = df[i_test]\n",
        "print('train %:', len(df_train) / len(df))\n",
        "print('test %:', len(df_test) / len(df))"
      ],
      "execution_count": 48,
      "outputs": [
        {
          "output_type": "stream",
          "text": [
            "train %: 0.6797664287700436\n",
            "test %: 0.2867735656687367\n"
          ],
          "name": "stdout"
        }
      ]
    },
    {
      "cell_type": "markdown",
      "metadata": {
        "id": "_ftSrI031KpM",
        "colab_type": "text"
      },
      "source": [
        "###Calculate classification baseline"
      ]
    },
    {
      "cell_type": "code",
      "metadata": {
        "jupyter": {
          "source_hidden": true
        },
        "id": "LfzkXBOd7E-L",
        "colab_type": "code",
        "colab": {
          "base_uri": "https://localhost:8080/",
          "height": 51
        },
        "outputId": "b5ef1199-4f64-43de-9def-6888f2d567d2"
      },
      "source": [
        "from sklearn.feature_extraction.text import TfidfVectorizer\n",
        "\n",
        "# get the TF-IDF of the text\n",
        "vec = TfidfVectorizer(min_df=2, sublinear_tf=True, decode_error='ignore')\n",
        "X = vec.fit_transform(df.text)\n",
        "X"
      ],
      "execution_count": 17,
      "outputs": [
        {
          "output_type": "execute_result",
          "data": {
            "text/plain": [
              "<21578x25995 sparse matrix of type '<class 'numpy.float64'>'\n",
              "\twith 1560768 stored elements in Compressed Sparse Row format>"
            ]
          },
          "metadata": {
            "tags": []
          },
          "execution_count": 17
        }
      ]
    },
    {
      "cell_type": "code",
      "metadata": {
        "jupyter": {
          "source_hidden": true
        },
        "id": "GqDcVpIs7E-R",
        "colab_type": "code",
        "colab": {
          "base_uri": "https://localhost:8080/",
          "height": 34
        },
        "outputId": "ae882969-9754-4b11-d4eb-c20434be2fc1"
      },
      "source": [
        "Xtr, ytr = X[i_train,:], Y[i_train,:]\n",
        "Xte, yte = X[i_test,:], Y[i_test,:]\n",
        "print(Xtr.shape, Xte.shape)"
      ],
      "execution_count": 18,
      "outputs": [
        {
          "output_type": "stream",
          "text": [
            "(14668, 25995) (6188, 25995)\n"
          ],
          "name": "stdout"
        }
      ]
    },
    {
      "cell_type": "code",
      "metadata": {
        "jupyter": {
          "outputs_hidden": true,
          "source_hidden": true
        },
        "id": "CxI-xRRo7E-T",
        "colab_type": "code",
        "colab": {
          "base_uri": "https://localhost:8080/",
          "height": 1000
        },
        "outputId": "14916993-25f5-4e55-f2ca-f712df298d2d"
      },
      "source": [
        "# Baseline classifier: TF-IDF with K-NN classification\n",
        "from sklearn.model_selection import GridSearchCV\n",
        "\n",
        "from sklearn.multioutput import MultiOutputClassifier\n",
        "from sklearn.neighbors import KNeighborsClassifier\n",
        "\n",
        "from sklearn.metrics import classification_report\n",
        "\n",
        "knn_model = KNeighborsClassifier(n_neighbors=5)\n",
        "knn_model.fit(Xtr, ytr)\n",
        "\n",
        "yte_pred = knn_model.predict(Xte)\n",
        "print(classification_report(yte, yte_pred, target_names=label_names))"
      ],
      "execution_count": 19,
      "outputs": [
        {
          "output_type": "stream",
          "text": [
            "                 precision    recall  f1-score   support\n",
            "\n",
            "            acq       0.83      0.01      0.01       719\n",
            "           alum       0.00      0.00      0.00        23\n",
            "         barley       1.00      0.14      0.25        14\n",
            "            bop       0.50      0.03      0.06        30\n",
            "        carcass       0.00      0.00      0.00        18\n",
            "          cocoa       0.00      0.00      0.00        18\n",
            "         coffee       1.00      0.04      0.07        28\n",
            "         copper       1.00      0.06      0.11        18\n",
            "           corn       0.92      0.21      0.35        56\n",
            "         cotton       0.00      0.00      0.00        20\n",
            "            cpi       1.00      0.04      0.07        28\n",
            "          crude       1.00      0.19      0.31       189\n",
            "            dlr       1.00      0.02      0.04        44\n",
            "            dmk       0.00      0.00      0.00         4\n",
            "           earn       0.45      0.03      0.06      1088\n",
            "           fuel       1.00      0.20      0.33        10\n",
            "            gas       1.00      0.18      0.30        17\n",
            "            gnp       0.00      0.00      0.00        35\n",
            "           gold       0.00      0.00      0.00        30\n",
            "          grain       0.90      0.17      0.29       149\n",
            "           heat       1.00      0.60      0.75         5\n",
            "            hog       0.12      0.17      0.14         6\n",
            "        housing       0.00      0.00      0.00         4\n",
            "         income       0.00      0.00      0.00         7\n",
            "       interest       0.88      0.21      0.34       133\n",
            "            ipi       0.00      0.00      0.00        12\n",
            "     iron-steel       0.00      0.00      0.00        14\n",
            "           jobs       1.00      0.10      0.17        21\n",
            "           lead       0.00      0.00      0.00        14\n",
            "            lei       0.00      0.00      0.00         3\n",
            "      livestock       0.22      0.08      0.12        24\n",
            "         lumber       0.00      0.00      0.00         6\n",
            "      meal-feed       0.00      0.00      0.00        19\n",
            "       money-fx       0.75      0.15      0.25       180\n",
            "   money-supply       0.26      0.29      0.27        34\n",
            "        nat-gas       0.00      0.00      0.00        30\n",
            "         nickel       0.00      0.00      0.00         1\n",
            "            oat       0.00      0.00      0.00         6\n",
            "        oilseed       0.90      0.19      0.32        47\n",
            "         orange       0.00      0.00      0.00        11\n",
            "       palm-oil       1.00      0.10      0.18        10\n",
            "       pet-chem       0.00      0.00      0.00        12\n",
            "       platinum       0.00      0.00      0.00         7\n",
            "       rapeseed       1.00      0.44      0.62         9\n",
            "       reserves       1.00      0.06      0.11        18\n",
            "         retail       0.00      0.00      0.00         2\n",
            "           rice       0.00      0.00      0.00        24\n",
            "         rubber       0.00      0.00      0.00        12\n",
            "           ship       1.00      0.01      0.02        89\n",
            "         silver       0.00      0.00      0.00         8\n",
            "        sorghum       1.00      0.10      0.18        10\n",
            "       soy-meal       0.00      0.00      0.00        13\n",
            "        soy-oil       0.00      0.00      0.00        11\n",
            "        soybean       1.00      0.18      0.31        33\n",
            "            stg       0.00      0.00      0.00         0\n",
            "strategic-metal       0.00      0.00      0.00        11\n",
            "          sugar       1.00      0.14      0.24        36\n",
            "        sunseed       1.00      0.20      0.33         5\n",
            "            tea       0.00      0.00      0.00         4\n",
            "            tin       0.00      0.00      0.00        12\n",
            "          trade       0.00      0.00      0.00       117\n",
            "        veg-oil       1.00      0.05      0.10        37\n",
            "          wheat       0.77      0.24      0.37        71\n",
            "            wpi       1.00      0.10      0.18        10\n",
            "            yen       0.00      0.00      0.00        14\n",
            "           zinc       0.00      0.00      0.00        13\n",
            "\n",
            "      micro avg       0.69      0.07      0.12      3703\n",
            "      macro avg       0.42      0.07      0.11      3703\n",
            "   weighted avg       0.62      0.07      0.11      3703\n",
            "    samples avg       0.03      0.03      0.03      3703\n",
            "\n"
          ],
          "name": "stdout"
        },
        {
          "output_type": "stream",
          "text": [
            "/usr/local/lib/python3.6/dist-packages/sklearn/metrics/_classification.py:1272: UndefinedMetricWarning: Precision and F-score are ill-defined and being set to 0.0 in labels with no predicted samples. Use `zero_division` parameter to control this behavior.\n",
            "  _warn_prf(average, modifier, msg_start, len(result))\n",
            "/usr/local/lib/python3.6/dist-packages/sklearn/metrics/_classification.py:1272: UndefinedMetricWarning: Recall and F-score are ill-defined and being set to 0.0 in labels with no true samples. Use `zero_division` parameter to control this behavior.\n",
            "  _warn_prf(average, modifier, msg_start, len(result))\n",
            "/usr/local/lib/python3.6/dist-packages/sklearn/metrics/_classification.py:1272: UndefinedMetricWarning: Precision and F-score are ill-defined and being set to 0.0 in samples with no predicted labels. Use `zero_division` parameter to control this behavior.\n",
            "  _warn_prf(average, modifier, msg_start, len(result))\n",
            "/usr/local/lib/python3.6/dist-packages/sklearn/metrics/_classification.py:1272: UndefinedMetricWarning: Recall and F-score are ill-defined and being set to 0.0 in samples with no true labels. Use `zero_division` parameter to control this behavior.\n",
            "  _warn_prf(average, modifier, msg_start, len(result))\n"
          ],
          "name": "stderr"
        }
      ]
    },
    {
      "cell_type": "markdown",
      "metadata": {
        "id": "Vg9E26yDaHeU",
        "colab_type": "text"
      },
      "source": [
        "###Train transformer model from pretrained english model"
      ]
    },
    {
      "cell_type": "code",
      "metadata": {
        "id": "EhtH9fYMCAQn",
        "colab_type": "code",
        "colab": {
          "base_uri": "https://localhost:8080/",
          "height": 686,
          "referenced_widgets": [
            "e87fa402ca704a25a41c65c6f4dd2e84",
            "8c4db9db178c49f4b76ac96fc7de90a8",
            "e4573fa0765b4a15b7ff6992e92d6b49",
            "4d73152124094482b22e8107683c1029",
            "469377ffcfc344988429f7cded814bc2",
            "d1904c4984d546c5855d169f290809a0",
            "79f821d21a5d433db9001c0dcf834000",
            "d70b7ab5c7c3403c931bac484a3fdfe5",
            "badd8b8626124442af9c6cced5837f37",
            "316bf38767cd44259d5f79e64e4a1fc4",
            "950e420c872c475da7856d0368306bf2",
            "55f39f5485374bb2b3c4f79b433fad8a",
            "47fbcb95d4684bfa8e360171e5c2610b",
            "39233b87ee37428092665c8c8be6143a",
            "d81c109b1807468db5497ec9452f0d29",
            "8083e54d3ba8484f909f3fee9a2e6b89"
          ]
        },
        "outputId": "d1302941-15b6-4cde-c22e-2a820e85cdf7"
      },
      "source": [
        "from transformers import RobertaTokenizer\n",
        "tokenizer = RobertaTokenizer.from_pretrained('roberta-base')\n",
        "seq_lens = [len(tokenizer.tokenize(t)) for t in df.text]\n",
        "plt.hist(seq_lens, bins=50)"
      ],
      "execution_count": 20,
      "outputs": [
        {
          "output_type": "stream",
          "text": [
            "\u001b[34m\u001b[1mwandb\u001b[0m: \u001b[33mWARNING\u001b[0m W&B installed but not logged in.  Run `wandb login` or set the WANDB_API_KEY env variable.\n"
          ],
          "name": "stderr"
        },
        {
          "output_type": "display_data",
          "data": {
            "application/vnd.jupyter.widget-view+json": {
              "model_id": "e87fa402ca704a25a41c65c6f4dd2e84",
              "version_minor": 0,
              "version_major": 2
            },
            "text/plain": [
              "HBox(children=(FloatProgress(value=0.0, description='Downloading', max=898823.0, style=ProgressStyle(descripti…"
            ]
          },
          "metadata": {
            "tags": []
          }
        },
        {
          "output_type": "stream",
          "text": [
            "\n"
          ],
          "name": "stdout"
        },
        {
          "output_type": "display_data",
          "data": {
            "application/vnd.jupyter.widget-view+json": {
              "model_id": "badd8b8626124442af9c6cced5837f37",
              "version_minor": 0,
              "version_major": 2
            },
            "text/plain": [
              "HBox(children=(FloatProgress(value=0.0, description='Downloading', max=456318.0, style=ProgressStyle(descripti…"
            ]
          },
          "metadata": {
            "tags": []
          }
        },
        {
          "output_type": "stream",
          "text": [
            "\n"
          ],
          "name": "stdout"
        },
        {
          "output_type": "execute_result",
          "data": {
            "text/plain": [
              "(array([4.957e+03, 8.238e+03, 3.388e+03, 1.947e+03, 1.004e+03, 6.020e+02,\n",
              "        3.980e+02, 2.850e+02, 1.940e+02, 1.470e+02, 1.390e+02, 1.130e+02,\n",
              "        8.800e+01, 4.100e+01, 1.900e+01, 6.000e+00, 8.000e+00, 1.000e+00,\n",
              "        0.000e+00, 0.000e+00, 0.000e+00, 1.000e+00, 0.000e+00, 0.000e+00,\n",
              "        0.000e+00, 0.000e+00, 0.000e+00, 0.000e+00, 0.000e+00, 0.000e+00,\n",
              "        0.000e+00, 0.000e+00, 0.000e+00, 0.000e+00, 0.000e+00, 0.000e+00,\n",
              "        0.000e+00, 0.000e+00, 0.000e+00, 0.000e+00, 0.000e+00, 0.000e+00,\n",
              "        0.000e+00, 0.000e+00, 0.000e+00, 1.000e+00, 0.000e+00, 0.000e+00,\n",
              "        0.000e+00, 1.000e+00]),\n",
              " array([   0.  ,   76.48,  152.96,  229.44,  305.92,  382.4 ,  458.88,\n",
              "         535.36,  611.84,  688.32,  764.8 ,  841.28,  917.76,  994.24,\n",
              "        1070.72, 1147.2 , 1223.68, 1300.16, 1376.64, 1453.12, 1529.6 ,\n",
              "        1606.08, 1682.56, 1759.04, 1835.52, 1912.  , 1988.48, 2064.96,\n",
              "        2141.44, 2217.92, 2294.4 , 2370.88, 2447.36, 2523.84, 2600.32,\n",
              "        2676.8 , 2753.28, 2829.76, 2906.24, 2982.72, 3059.2 , 3135.68,\n",
              "        3212.16, 3288.64, 3365.12, 3441.6 , 3518.08, 3594.56, 3671.04,\n",
              "        3747.52, 3824.  ]),\n",
              " <a list of 50 Patch objects>)"
            ]
          },
          "metadata": {
            "tags": []
          },
          "execution_count": 20
        },
        {
          "output_type": "display_data",
          "data": {
            "image/png": "[encoded data removed]",
            "text/plain": [
              "<Figure size 432x288 with 1 Axes>"
            ]
          },
          "metadata": {
            "tags": [],
            "needs_background": "light"
          }
        }
      ]
    },
    {
      "cell_type": "markdown",
      "metadata": {
        "id": "7vtHgfuNPLBK",
        "colab_type": "text"
      },
      "source": [
        "Quite long documents. The default max sequence length of 128 tokens for MultiLabelClassificationModel would cut off many documents. Would be good to use sliding window/stride which splits the text into pieces without truncating them. The support for this in  but this in simpletransformers is experimental but can be used with a workaround.\n",
        "\n",
        "Note: MultiLabelClassificationModel uses the metric Label ranking average precision (LRAP) https://scikit-learn.org/stable/modules/generated/sklearn.metrics.label_ranking_average_precision_score.html which seems sensible for this kind of multilabel classification."
      ]
    },
    {
      "cell_type": "code",
      "metadata": {
        "id": "JIs-lLrg7E-V",
        "colab_type": "code",
        "colab": {
          "base_uri": "https://localhost:8080/",
          "height": 864,
          "referenced_widgets": [
            "e12a3f987124469c9558eb16725f72a6",
            "92bf9ae90a9c4d0b9da035687afb332f",
            "65dbbcd15367465983d51d0adc6a1df6",
            "1d2e0084eab045a99a8bc4ca3c02e58b",
            "8b4cffd5c4f641dc9d77c326aac9c117",
            "144c888e7ca14db9a3bdfed6f76d58b0",
            "77de3d989fe34864a1584b2ca22f1ccf",
            "0ee01cfa331f4c7dafe63c29ad4172be",
            "d6e245ebf52b467585692cbd126db60a",
            "dad9b11d95bf49deaac099991ed91ae9",
            "f91153a35a7444fca1838eb837b2e067",
            "0f85416faad84c4a9fb4880a958f1f20",
            "a9a0dd13fc3f48b495133cab6f88d2aa",
            "cbe382f62e564916a82a632ab2ee4a6e",
            "bf404616cf46462ea1a77dc23d1ebcdd",
            "d26f3d5156a544448536f091f33cd1a9",
            "4d2c8ebe22fb4e59b694c65bb2a5ce63",
            "a72abd6bae7047d7bd2a60bec50f2dfa",
            "11bb5d74da3242538c1c947a25cee48a",
            "61c2e887f0e54e03a9d29c200aa16238",
            "4b48c0cd91374fef9ee4f55051705127",
            "279f50bb909844099d3b39a4112e4c19",
            "4bc92a9d00b6461da1d5c9d462751c37",
            "a6d7af5585464d2f9ef2eb591a758784"
          ]
        },
        "outputId": "2c7cf68e-06ca-450a-e78c-a27692708178"
      },
      "source": [
        "from simpletransformers.classification import MultiLabelClassificationModel\n",
        "import logging\n",
        "from sklearn.model_selection import train_test_split\n",
        "\n",
        "logging.basicConfig(level=logging.INFO)\n",
        "transformers_logger = logging.getLogger(\"transformers\")\n",
        "transformers_logger.setLevel(logging.WARNING)\n",
        "\n",
        "# Train and Evaluation data needs to be in a Pandas Dataframe containing at least two columns, a 'text' and a 'labels' column. The `labels` column should contain multi-hot encoded lists.\n",
        "train_df = pd.DataFrame({'text': df_train.text.values, 'labels':df_train.labels.values})\n",
        "test_df = pd.DataFrame({'text': df_test.text.values, 'labels':df_test.labels.values})\n",
        "\n",
        "# Create a MultiLabelClassificationModel\n",
        "model = MultiLabelClassificationModel('roberta', 'distilroberta-base', # distilroberta-base is a bit faster to train than 'roberta-base',\n",
        "                                      num_labels=len(keep_topics), use_cuda=True,\n",
        "                                      args={\n",
        "                                            'sliding_window': True,\n",
        "                                            'label_list': label_names,\n",
        "                                            'reprocess_input_data': True,\n",
        "                                            'overwrite_output_dir': True,\n",
        "                                            'num_train_epochs': 1,\n",
        "                                            'fp16': True,\n",
        "                                            #'fp16_opt_level': 'O2',\n",
        "                                            #'max_seq_length': 256,\n",
        "                                            #'evaluate_during_training': True\n",
        "                                            })\n",
        "# You can set class weights by using the optional weight argument\n",
        "print(train_df.head())\n",
        "\n",
        "# Train the model\n",
        "model.train_model(train_df)#, eval_df=test_df)"
      ],
      "execution_count": 66,
      "outputs": [
        {
          "output_type": "stream",
          "text": [
            "WARNING:transformers.modeling_utils:Some weights of the model checkpoint at distilroberta-base were not used when initializing RobertaForMultiLabelSequenceClassification: ['lm_head.bias', 'lm_head.dense.weight', 'lm_head.dense.bias', 'lm_head.layer_norm.weight', 'lm_head.layer_norm.bias', 'lm_head.decoder.weight']\n",
            "- This IS expected if you are initializing RobertaForMultiLabelSequenceClassification from the checkpoint of a model trained on another task or with another architecture (e.g. initializing a BertForSequenceClassification model from a BertForPretraining model).\n",
            "- This IS NOT expected if you are initializing RobertaForMultiLabelSequenceClassification from the checkpoint of a model that you expect to be exactly identical (initializing a BertForSequenceClassification model from a BertForSequenceClassification model).\n",
            "WARNING:transformers.modeling_utils:Some weights of RobertaForMultiLabelSequenceClassification were not initialized from the model checkpoint at distilroberta-base and are newly initialized: ['classifier.dense.weight', 'classifier.dense.bias', 'classifier.out_proj.weight', 'classifier.out_proj.bias']\n",
            "You should probably TRAIN this model on a down-stream task to be able to use it for predictions and inference.\n",
            "INFO:simpletransformers.classification.classification_model: Converting to features started. Cache is not used.\n",
            "INFO:simpletransformers.classification.classification_model: Sliding window enabled\n"
          ],
          "name": "stderr"
        },
        {
          "output_type": "stream",
          "text": [
            "                                                text                                             labels\n",
            "0  INCO SEES NO MAJOR IMPACT FROM DOW REMOVAL\\nIn...  [0, 0, 0, 0, 0, 0, 0, 0, 0, 0, 0, 0, 0, 0, 0, ...\n",
            "1  FORMER EMPIRE OF CAROLINA <EMP> EXEC SENTENCED...  [0, 0, 0, 0, 0, 0, 0, 0, 0, 0, 0, 0, 0, 0, 0, ...\n",
            "2  DOCTORS FIND LINK BETWEEN AIDS, SMALLPOX VIRUS...  [0, 0, 0, 0, 0, 0, 0, 0, 0, 0, 0, 0, 0, 0, 0, ...\n",
            "3  BIRTH CONTROL PILLS HELP PREVENT CANCER - STUD...  [0, 0, 0, 0, 0, 0, 0, 0, 0, 0, 0, 0, 0, 0, 0, ...\n",
            "4  U.S. ECONOMIC DATA KEY TO DEBT FUTURES OUTLOOK...  [0, 0, 0, 0, 0, 0, 0, 0, 0, 0, 0, 0, 0, 0, 0, ...\n"
          ],
          "name": "stdout"
        },
        {
          "output_type": "display_data",
          "data": {
            "application/vnd.jupyter.widget-view+json": {
              "model_id": "e12a3f987124469c9558eb16725f72a6",
              "version_minor": 0,
              "version_major": 2
            },
            "text/plain": [
              "HBox(children=(FloatProgress(value=0.0, max=14668.0), HTML(value='')))"
            ]
          },
          "metadata": {
            "tags": []
          }
        },
        {
          "output_type": "stream",
          "text": [
            "INFO:simpletransformers.classification.classification_model: 31866 features created from 14668 samples.\n"
          ],
          "name": "stderr"
        },
        {
          "output_type": "stream",
          "text": [
            "\n",
            "Selected optimization level O1:  Insert automatic casts around Pytorch functions and Tensor methods.\n",
            "\n",
            "Defaults for this optimization level are:\n",
            "enabled                : True\n",
            "opt_level              : O1\n",
            "cast_model_type        : None\n",
            "patch_torch_functions  : True\n",
            "keep_batchnorm_fp32    : None\n",
            "master_weights         : None\n",
            "loss_scale             : dynamic\n",
            "Processing user overrides (additional kwargs that are not None)...\n",
            "After processing overrides, optimization options are:\n",
            "enabled                : True\n",
            "opt_level              : O1\n",
            "cast_model_type        : None\n",
            "patch_torch_functions  : True\n",
            "keep_batchnorm_fp32    : None\n",
            "master_weights         : None\n",
            "loss_scale             : dynamic\n"
          ],
          "name": "stdout"
        },
        {
          "output_type": "display_data",
          "data": {
            "application/vnd.jupyter.widget-view+json": {
              "model_id": "d6e245ebf52b467585692cbd126db60a",
              "version_minor": 0,
              "version_major": 2
            },
            "text/plain": [
              "HBox(children=(FloatProgress(value=0.0, description='Epoch', max=1.0, style=ProgressStyle(description_width='i…"
            ]
          },
          "metadata": {
            "tags": []
          }
        },
        {
          "output_type": "display_data",
          "data": {
            "application/vnd.jupyter.widget-view+json": {
              "model_id": "4d2c8ebe22fb4e59b694c65bb2a5ce63",
              "version_minor": 0,
              "version_major": 2
            },
            "text/plain": [
              "HBox(children=(FloatProgress(value=0.0, description='Running Epoch 0 of 1', max=3984.0, style=ProgressStyle(de…"
            ]
          },
          "metadata": {
            "tags": []
          }
        },
        {
          "output_type": "stream",
          "text": [
            "/usr/local/lib/python3.6/dist-packages/torch/optim/lr_scheduler.py:114: UserWarning: Seems like `optimizer.step()` has been overridden after learning rate scheduler initialization. Please, make sure to call `optimizer.step()` before `lr_scheduler.step()`. See more details at https://pytorch.org/docs/stable/optim.html#how-to-adjust-learning-rate\n",
            "  \"https://pytorch.org/docs/stable/optim.html#how-to-adjust-learning-rate\", UserWarning)\n",
            "/usr/local/lib/python3.6/dist-packages/torch/optim/lr_scheduler.py:231: UserWarning: To get the last learning rate computed by the scheduler, please use `get_last_lr()`.\n",
            "  warnings.warn(\"To get the last learning rate computed by the scheduler, \"\n",
            "/usr/local/lib/python3.6/dist-packages/torch/optim/lr_scheduler.py:200: UserWarning: Please also save or load the state of the optimzer when saving or loading the scheduler.\n",
            "  warnings.warn(SAVE_STATE_WARNING, UserWarning)\n"
          ],
          "name": "stderr"
        },
        {
          "output_type": "stream",
          "text": [
            "\n",
            "\n"
          ],
          "name": "stdout"
        },
        {
          "output_type": "stream",
          "text": [
            "INFO:simpletransformers.classification.classification_model: Training of roberta model complete. Saved to outputs/.\n"
          ],
          "name": "stderr"
        }
      ]
    },
    {
      "cell_type": "markdown",
      "metadata": {
        "id": "On3bzQpmRztd",
        "colab_type": "text"
      },
      "source": [
        "### Transformer model evaluation"
      ]
    },
    {
      "cell_type": "code",
      "metadata": {
        "id": "865RratO7E-X",
        "colab_type": "code",
        "colab": {
          "base_uri": "https://localhost:8080/",
          "height": 1000,
          "referenced_widgets": [
            "d9cf44c706f047aba1679dfd26107654",
            "666543b562d04f11bd9769a275258a2f",
            "ef5edebb167c44898e04d4fa1b53781d",
            "b3ec128bc8e74d999f221ac1d280a866",
            "c0ec446e16e44341ab56e25331577ada",
            "ea0cfc76fa2f47be807d8b21b555c60d",
            "2472af4f447746fba10af963d5873266",
            "9046792565d544ee92ef31515057a25b",
            "d69382b897af42fc85ddda3c8bfe7023",
            "91bb7cf1ede24025a044d6e0b31c8441",
            "ec4ca15ca9564dec865f39a1f0759217",
            "d524f22c19ac49cd8df9df0734fc52ba",
            "892939e3c55a4212ac5674c49aa20eae",
            "3b3abdbd3cf147b4ab90e16b5fb91273",
            "79b64b5b7db04b868a7e1b01b5372dac",
            "f3cbd9b5035a4d35a57b125ad4043f98",
            "719a3c75139b4a7f9dac5d981d38dccd",
            "1d63ed5920714ebaa3fae7595cba8f58",
            "78ee0d8262d14f65a1fb67285585f192",
            "a104e4ae79494075a9d4f0311e02cec7",
            "3a2a40cf7748419db63eb7687961ec47",
            "6fbcf455b41c480b958ec091709a0602",
            "7823d6435ec74c8893ef9813b0d59e91",
            "669c02781fc24e1785a53ab14705aacf",
            "8fdb4618005345628bb5f43d22eefcb6",
            "cd4338d073484f218a3e609c3d865cb4",
            "a09a63c75bfa4fb18462a532ecd838b4",
            "f43d81419aaa4828bfe9aa4027631e49",
            "f48745da96d947748f51812ab84b44d6",
            "da5a4379bd074fcdae334c842d33d5f7",
            "3246e355537843b68b7b2dcd9f8b7c96",
            "0dfb9d387d684d80b2269c4394f7055e"
          ]
        },
        "outputId": "3304f78a-aa38-4473-d228-292316c88bf6"
      },
      "source": [
        "# Evaluate the model\n",
        "model.args.sliding_window = False # Can train multilabel with sliding_window but not predict, so disable here \n",
        "result, model_outputs, wrong_predictions = model.eval_model(test_df)\n",
        "print(result)\n",
        "print('tags in preds:', (model_outputs > 0.5).sum())\n",
        "print('tags in test set: ', sum([sum(ls) for ls in test_df.labels]))\n",
        "from sklearn.metrics import classification_report\n",
        "print(classification_report(np.array([np.array(l) for l in test_df.labels.values]),\n",
        "                            (model_outputs > 0.5).astype(int),\n",
        "                            target_names=label_names))\n",
        "\n",
        "# Test something else\n",
        "predictions, raw_outputs = model.predict(['oil to make gasoline']) # aka crude oil\n",
        "max_pred_i = np.argmax(raw_outputs[0])\n",
        "print('pred class:', label_names[max_pred_i], raw_outputs[0][max_pred_i])"
      ],
      "execution_count": 90,
      "outputs": [
        {
          "output_type": "display_data",
          "data": {
            "application/vnd.jupyter.widget-view+json": {
              "model_id": "d9cf44c706f047aba1679dfd26107654",
              "version_minor": 0,
              "version_major": 2
            },
            "text/plain": [
              "HBox(children=(FloatProgress(value=0.0, max=6188.0), HTML(value='')))"
            ]
          },
          "metadata": {
            "tags": []
          }
        },
        {
          "output_type": "stream",
          "text": [
            "\n"
          ],
          "name": "stdout"
        },
        {
          "output_type": "display_data",
          "data": {
            "application/vnd.jupyter.widget-view+json": {
              "model_id": "d69382b897af42fc85ddda3c8bfe7023",
              "version_minor": 0,
              "version_major": 2
            },
            "text/plain": [
              "HBox(children=(FloatProgress(value=0.0, description='Running Evaluation', max=774.0, style=ProgressStyle(descr…"
            ]
          },
          "metadata": {
            "tags": []
          }
        },
        {
          "output_type": "stream",
          "text": [
            "\n"
          ],
          "name": "stdout"
        },
        {
          "output_type": "stream",
          "text": [
            "/usr/local/lib/python3.6/dist-packages/sklearn/metrics/_classification.py:1272: UndefinedMetricWarning: Precision and F-score are ill-defined and being set to 0.0 in labels with no predicted samples. Use `zero_division` parameter to control this behavior.\n",
            "  _warn_prf(average, modifier, msg_start, len(result))\n",
            "/usr/local/lib/python3.6/dist-packages/sklearn/metrics/_classification.py:1272: UndefinedMetricWarning: Recall and F-score are ill-defined and being set to 0.0 in labels with no true samples. Use `zero_division` parameter to control this behavior.\n",
            "  _warn_prf(average, modifier, msg_start, len(result))\n",
            "/usr/local/lib/python3.6/dist-packages/sklearn/metrics/_classification.py:1272: UndefinedMetricWarning: Precision and F-score are ill-defined and being set to 0.0 in samples with no predicted labels. Use `zero_division` parameter to control this behavior.\n",
            "  _warn_prf(average, modifier, msg_start, len(result))\n",
            "/usr/local/lib/python3.6/dist-packages/sklearn/metrics/_classification.py:1272: UndefinedMetricWarning: Recall and F-score are ill-defined and being set to 0.0 in samples with no true labels. Use `zero_division` parameter to control this behavior.\n",
            "  _warn_prf(average, modifier, msg_start, len(result))\n",
            "INFO:simpletransformers.classification.classification_model: Converting to features started. Cache is not used.\n"
          ],
          "name": "stderr"
        },
        {
          "output_type": "stream",
          "text": [
            "{'LRAP': 0.9184846620014195, 'eval_loss': 0.02149274017546297}\n",
            "tags in preds: 2923\n",
            "tags in test set:  3703\n",
            "                 precision    recall  f1-score   support\n",
            "\n",
            "            acq       0.81      0.90      0.86       719\n",
            "           alum       0.00      0.00      0.00        23\n",
            "         barley       0.00      0.00      0.00        14\n",
            "            bop       0.00      0.00      0.00        30\n",
            "        carcass       0.00      0.00      0.00        18\n",
            "          cocoa       0.00      0.00      0.00        18\n",
            "         coffee       0.00      0.00      0.00        28\n",
            "         copper       0.00      0.00      0.00        18\n",
            "           corn       0.00      0.00      0.00        56\n",
            "         cotton       0.00      0.00      0.00        20\n",
            "            cpi       0.00      0.00      0.00        28\n",
            "          crude       0.79      0.78      0.78       189\n",
            "            dlr       0.00      0.00      0.00        44\n",
            "            dmk       0.00      0.00      0.00         4\n",
            "           earn       0.67      0.98      0.80      1088\n",
            "           fuel       0.00      0.00      0.00        10\n",
            "            gas       0.00      0.00      0.00        17\n",
            "            gnp       0.00      0.00      0.00        35\n",
            "           gold       0.00      0.00      0.00        30\n",
            "          grain       0.83      0.70      0.76       149\n",
            "           heat       0.00      0.00      0.00         5\n",
            "            hog       0.00      0.00      0.00         6\n",
            "        housing       0.00      0.00      0.00         4\n",
            "         income       0.00      0.00      0.00         7\n",
            "       interest       0.00      0.00      0.00       133\n",
            "            ipi       0.00      0.00      0.00        12\n",
            "     iron-steel       0.00      0.00      0.00        14\n",
            "           jobs       0.00      0.00      0.00        21\n",
            "           lead       0.00      0.00      0.00        14\n",
            "            lei       0.00      0.00      0.00         3\n",
            "      livestock       0.00      0.00      0.00        24\n",
            "         lumber       0.00      0.00      0.00         6\n",
            "      meal-feed       0.00      0.00      0.00        19\n",
            "       money-fx       0.70      0.50      0.58       180\n",
            "   money-supply       0.00      0.00      0.00        34\n",
            "        nat-gas       0.00      0.00      0.00        30\n",
            "         nickel       0.00      0.00      0.00         1\n",
            "            oat       0.00      0.00      0.00         6\n",
            "        oilseed       0.00      0.00      0.00        47\n",
            "         orange       0.00      0.00      0.00        11\n",
            "       palm-oil       0.00      0.00      0.00        10\n",
            "       pet-chem       0.00      0.00      0.00        12\n",
            "       platinum       0.00      0.00      0.00         7\n",
            "       rapeseed       0.00      0.00      0.00         9\n",
            "       reserves       0.00      0.00      0.00        18\n",
            "         retail       0.00      0.00      0.00         2\n",
            "           rice       0.00      0.00      0.00        24\n",
            "         rubber       0.00      0.00      0.00        12\n",
            "           ship       0.75      0.03      0.06        89\n",
            "         silver       0.00      0.00      0.00         8\n",
            "        sorghum       0.00      0.00      0.00        10\n",
            "       soy-meal       0.00      0.00      0.00        13\n",
            "        soy-oil       0.00      0.00      0.00        11\n",
            "        soybean       0.00      0.00      0.00        33\n",
            "            stg       0.00      0.00      0.00         0\n",
            "strategic-metal       0.00      0.00      0.00        11\n",
            "          sugar       0.00      0.00      0.00        36\n",
            "        sunseed       0.00      0.00      0.00         5\n",
            "            tea       0.00      0.00      0.00         4\n",
            "            tin       0.00      0.00      0.00        12\n",
            "          trade       0.68      0.61      0.64       117\n",
            "        veg-oil       0.00      0.00      0.00        37\n",
            "          wheat       0.00      0.00      0.00        71\n",
            "            wpi       0.00      0.00      0.00        10\n",
            "            yen       0.00      0.00      0.00        14\n",
            "           zinc       0.00      0.00      0.00        13\n",
            "\n",
            "      micro avg       0.73      0.57      0.64      3703\n",
            "      macro avg       0.08      0.07      0.07      3703\n",
            "   weighted avg       0.50      0.57      0.52      3703\n",
            "    samples avg       0.34      0.32      0.33      3703\n",
            "\n"
          ],
          "name": "stdout"
        },
        {
          "output_type": "display_data",
          "data": {
            "application/vnd.jupyter.widget-view+json": {
              "model_id": "719a3c75139b4a7f9dac5d981d38dccd",
              "version_minor": 0,
              "version_major": 2
            },
            "text/plain": [
              "HBox(children=(FloatProgress(value=0.0, max=1.0), HTML(value='')))"
            ]
          },
          "metadata": {
            "tags": []
          }
        },
        {
          "output_type": "stream",
          "text": [
            "\n"
          ],
          "name": "stdout"
        },
        {
          "output_type": "display_data",
          "data": {
            "application/vnd.jupyter.widget-view+json": {
              "model_id": "8fdb4618005345628bb5f43d22eefcb6",
              "version_minor": 0,
              "version_major": 2
            },
            "text/plain": [
              "HBox(children=(FloatProgress(value=0.0, max=1.0), HTML(value='')))"
            ]
          },
          "metadata": {
            "tags": []
          }
        },
        {
          "output_type": "stream",
          "text": [
            "\n",
            "[[0, 0, 0, 0, 0, 0, 0, 0, 0, 0, 0, 0, 0, 0, 0, 0, 0, 0, 0, 0, 0, 0, 0, 0, 0, 0, 0, 0, 0, 0, 0, 0, 0, 0, 0, 0, 0, 0, 0, 0, 0, 0, 0, 0, 0, 0, 0, 0, 0, 0, 0, 0, 0, 0, 0, 0, 0, 0, 0, 0, 0, 0, 0, 0, 0, 0]]\n",
            "pred class: crude 0.63623047\n"
          ],
          "name": "stdout"
        }
      ]
    },
    {
      "cell_type": "markdown",
      "metadata": {
        "id": "EJChgF6hOqL-",
        "colab_type": "text"
      },
      "source": [
        "The transformer model makes no predictions at all for many of the low frequency classes which decreases the macro average F1-score to 0.07 which is below the baseline of 0.11. But the more representative measure is the micro average F1 score which is much higher at 0.64 instead of 0.12. Lowering the classification threshold to get the same macro F1 score of 0.11 actually gives a slightly higher micro F1-score with a decrease of micro accuracy to 0.61 instead of 0.73 - see report below."
      ]
    },
    {
      "cell_type": "code",
      "metadata": {
        "id": "b0jfVPcsL8z7",
        "colab_type": "code",
        "colab": {
          "base_uri": "https://localhost:8080/",
          "height": 1000
        },
        "outputId": "dc4646e8-2b76-4ebf-9d1d-d85f1808d685"
      },
      "source": [
        "print(classification_report(np.array([np.array(l) for l in test_df.labels.values]),\n",
        "                            (model_outputs > 0.2).astype(int),\n",
        "                            target_names=label_names))"
      ],
      "execution_count": 95,
      "outputs": [
        {
          "output_type": "stream",
          "text": [
            "                 precision    recall  f1-score   support\n",
            "\n",
            "            acq       0.72      0.95      0.81       719\n",
            "           alum       0.00      0.00      0.00        23\n",
            "         barley       0.00      0.00      0.00        14\n",
            "            bop       0.00      0.00      0.00        30\n",
            "        carcass       0.00      0.00      0.00        18\n",
            "          cocoa       0.00      0.00      0.00        18\n",
            "         coffee       0.00      0.00      0.00        28\n",
            "         copper       0.00      0.00      0.00        18\n",
            "           corn       0.33      0.79      0.47        56\n",
            "         cotton       0.00      0.00      0.00        20\n",
            "            cpi       0.00      0.00      0.00        28\n",
            "          crude       0.58      0.92      0.71       189\n",
            "            dlr       0.73      0.18      0.29        44\n",
            "            dmk       0.00      0.00      0.00         4\n",
            "           earn       0.65      0.99      0.78      1088\n",
            "           fuel       0.00      0.00      0.00        10\n",
            "            gas       0.00      0.00      0.00        17\n",
            "            gnp       0.38      0.31      0.34        35\n",
            "           gold       0.00      0.00      0.00        30\n",
            "          grain       0.66      0.87      0.75       149\n",
            "           heat       0.00      0.00      0.00         5\n",
            "            hog       0.00      0.00      0.00         6\n",
            "        housing       0.00      0.00      0.00         4\n",
            "         income       0.00      0.00      0.00         7\n",
            "       interest       0.48      0.73      0.58       133\n",
            "            ipi       0.00      0.00      0.00        12\n",
            "     iron-steel       0.00      0.00      0.00        14\n",
            "           jobs       0.00      0.00      0.00        21\n",
            "           lead       0.00      0.00      0.00        14\n",
            "            lei       0.00      0.00      0.00         3\n",
            "      livestock       0.00      0.00      0.00        24\n",
            "         lumber       0.00      0.00      0.00         6\n",
            "      meal-feed       0.00      0.00      0.00        19\n",
            "       money-fx       0.44      0.84      0.58       180\n",
            "   money-supply       0.00      0.00      0.00        34\n",
            "        nat-gas       0.00      0.00      0.00        30\n",
            "         nickel       0.00      0.00      0.00         1\n",
            "            oat       0.00      0.00      0.00         6\n",
            "        oilseed       0.25      0.43      0.32        47\n",
            "         orange       0.00      0.00      0.00        11\n",
            "       palm-oil       0.00      0.00      0.00        10\n",
            "       pet-chem       0.00      0.00      0.00        12\n",
            "       platinum       0.00      0.00      0.00         7\n",
            "       rapeseed       0.00      0.00      0.00         9\n",
            "       reserves       0.00      0.00      0.00        18\n",
            "         retail       0.00      0.00      0.00         2\n",
            "           rice       0.00      0.00      0.00        24\n",
            "         rubber       0.00      0.00      0.00        12\n",
            "           ship       0.81      0.44      0.57        89\n",
            "         silver       0.00      0.00      0.00         8\n",
            "        sorghum       0.00      0.00      0.00        10\n",
            "       soy-meal       0.00      0.00      0.00        13\n",
            "        soy-oil       0.00      0.00      0.00        11\n",
            "        soybean       0.00      0.00      0.00        33\n",
            "            stg       0.00      0.00      0.00         0\n",
            "strategic-metal       0.00      0.00      0.00        11\n",
            "          sugar       0.00      0.00      0.00        36\n",
            "        sunseed       0.00      0.00      0.00         5\n",
            "            tea       0.00      0.00      0.00         4\n",
            "            tin       0.00      0.00      0.00        12\n",
            "          trade       0.55      0.87      0.68       117\n",
            "        veg-oil       0.00      0.00      0.00        37\n",
            "          wheat       0.48      0.87      0.62        71\n",
            "            wpi       0.00      0.00      0.00        10\n",
            "            yen       0.00      0.00      0.00        14\n",
            "           zinc       0.00      0.00      0.00        13\n",
            "\n",
            "      micro avg       0.61      0.70      0.65      3703\n",
            "      macro avg       0.11      0.14      0.11      3703\n",
            "   weighted avg       0.49      0.70      0.57      3703\n",
            "    samples avg       0.37      0.37      0.37      3703\n",
            "\n"
          ],
          "name": "stdout"
        },
        {
          "output_type": "stream",
          "text": [
            "/usr/local/lib/python3.6/dist-packages/sklearn/metrics/_classification.py:1272: UndefinedMetricWarning: Precision and F-score are ill-defined and being set to 0.0 in labels with no predicted samples. Use `zero_division` parameter to control this behavior.\n",
            "  _warn_prf(average, modifier, msg_start, len(result))\n",
            "/usr/local/lib/python3.6/dist-packages/sklearn/metrics/_classification.py:1272: UndefinedMetricWarning: Recall and F-score are ill-defined and being set to 0.0 in labels with no true samples. Use `zero_division` parameter to control this behavior.\n",
            "  _warn_prf(average, modifier, msg_start, len(result))\n",
            "/usr/local/lib/python3.6/dist-packages/sklearn/metrics/_classification.py:1272: UndefinedMetricWarning: Precision and F-score are ill-defined and being set to 0.0 in samples with no predicted labels. Use `zero_division` parameter to control this behavior.\n",
            "  _warn_prf(average, modifier, msg_start, len(result))\n",
            "/usr/local/lib/python3.6/dist-packages/sklearn/metrics/_classification.py:1272: UndefinedMetricWarning: Recall and F-score are ill-defined and being set to 0.0 in samples with no true labels. Use `zero_division` parameter to control this behavior.\n",
            "  _warn_prf(average, modifier, msg_start, len(result))\n"
          ],
          "name": "stderr"
        }
      ]
    },
    {
      "cell_type": "code",
      "metadata": {
        "id": "4Qme2bd6QniH",
        "colab_type": "code",
        "colab": {}
      },
      "source": [
        ""
      ],
      "execution_count": null,
      "outputs": []
    }
  ]
}